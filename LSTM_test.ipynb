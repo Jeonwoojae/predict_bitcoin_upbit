{
  "nbformat": 4,
  "nbformat_minor": 0,
  "metadata": {
    "colab": {
      "name": "LSTM_test.ipynb",
      "provenance": [],
      "collapsed_sections": [],
      "authorship_tag": "ABX9TyNuJj3n0LuYiGE4oFMlU+sI",
      "include_colab_link": true
    },
    "kernelspec": {
      "name": "python3",
      "display_name": "Python 3"
    },
    "language_info": {
      "name": "python"
    },
    "accelerator": "GPU",
    "gpuClass": "standard"
  },
  "cells": [
    {
      "cell_type": "markdown",
      "metadata": {
        "id": "view-in-github",
        "colab_type": "text"
      },
      "source": [
        "<a href=\"https://colab.research.google.com/github/Jeonwoojae/predict_bitcoin_upbit/blob/main/LSTM_test.ipynb\" target=\"_parent\"><img src=\"https://colab.research.google.com/assets/colab-badge.svg\" alt=\"Open In Colab\"/></a>"
      ]
    },
    {
      "cell_type": "code",
      "execution_count": 1,
      "metadata": {
        "id": "bZlp10otVUNt",
        "colab": {
          "base_uri": "https://localhost:8080/"
        },
        "outputId": "5ec8b327-b00b-4ea5-d972-801c81e9a01c"
      },
      "outputs": [
        {
          "output_type": "stream",
          "name": "stdout",
          "text": [
            "Looking in indexes: https://pypi.org/simple, https://us-python.pkg.dev/colab-wheels/public/simple/\n",
            "Collecting pyupbit\n",
            "  Downloading pyupbit-0.2.33-py3-none-any.whl (24 kB)\n",
            "Collecting websockets\n",
            "  Downloading websockets-10.3-cp37-cp37m-manylinux_2_5_x86_64.manylinux1_x86_64.manylinux_2_12_x86_64.manylinux2010_x86_64.whl (112 kB)\n",
            "\u001b[K     |████████████████████████████████| 112 kB 35.7 MB/s \n",
            "\u001b[?25hRequirement already satisfied: requests in /usr/local/lib/python3.7/dist-packages (from pyupbit) (2.23.0)\n",
            "Collecting pyjwt>=2.0.0\n",
            "  Downloading PyJWT-2.4.0-py3-none-any.whl (18 kB)\n",
            "Requirement already satisfied: pandas in /usr/local/lib/python3.7/dist-packages (from pyupbit) (1.3.5)\n",
            "Requirement already satisfied: numpy>=1.17.3 in /usr/local/lib/python3.7/dist-packages (from pandas->pyupbit) (1.21.6)\n",
            "Requirement already satisfied: pytz>=2017.3 in /usr/local/lib/python3.7/dist-packages (from pandas->pyupbit) (2022.1)\n",
            "Requirement already satisfied: python-dateutil>=2.7.3 in /usr/local/lib/python3.7/dist-packages (from pandas->pyupbit) (2.8.2)\n",
            "Requirement already satisfied: six>=1.5 in /usr/local/lib/python3.7/dist-packages (from python-dateutil>=2.7.3->pandas->pyupbit) (1.15.0)\n",
            "Requirement already satisfied: certifi>=2017.4.17 in /usr/local/lib/python3.7/dist-packages (from requests->pyupbit) (2022.6.15)\n",
            "Requirement already satisfied: idna<3,>=2.5 in /usr/local/lib/python3.7/dist-packages (from requests->pyupbit) (2.10)\n",
            "Requirement already satisfied: chardet<4,>=3.0.2 in /usr/local/lib/python3.7/dist-packages (from requests->pyupbit) (3.0.4)\n",
            "Requirement already satisfied: urllib3!=1.25.0,!=1.25.1,<1.26,>=1.21.1 in /usr/local/lib/python3.7/dist-packages (from requests->pyupbit) (1.24.3)\n",
            "Installing collected packages: websockets, pyjwt, pyupbit\n",
            "Successfully installed pyjwt-2.4.0 pyupbit-0.2.33 websockets-10.3\n"
          ]
        }
      ],
      "source": [
        "!pip install pyupbit"
      ]
    },
    {
      "cell_type": "code",
      "source": [
        "import pyupbit\n",
        "import time\n",
        "import numpy as np\n",
        "import pandas as pd\n",
        "import tensorflow as tf\n",
        "import matplotlib.pyplot as plt\n",
        "from datetime import datetime, timedelta\n",
        "\n",
        "\n",
        "def Inseart_data_upbit(coin_select, date_select, countofdata):\n",
        "\t#################################################################################\n",
        "    date=None\n",
        "    #res = [pd.DataFrame(columns=['open','high','low', 'close', 'volume', 'value'])]\n",
        "\n",
        "\n",
        "    res = []\n",
        "    count = int(countofdata/200)\n",
        "    for i in range(count):\n",
        "        df = pyupbit.get_ohlcv(coin_select, interval=date_select, count=200, to=date)\n",
        "        df['idCoin'] = coin_select    # 마켓 정보 추가\n",
        "\n",
        "        market_date = df.index\n",
        "        df['dateCoin'] = market_date    # 날짜 정보 추가\n",
        "        # 열 이름은 테이블의 이름과 같아야한다.\n",
        "\n",
        "        df = df[['dateCoin','idCoin', 'open', 'high', 'low', 'close', 'volume', 'value']]     # 데이터 순서 변경\n",
        "        #print(df)\n",
        "        res.append(df)\n",
        "\n",
        "        date = df.index[0]\n",
        "        time.sleep(0.01)\n",
        "\n",
        "    df = pd.concat(res).sort_index()\n",
        "    \n",
        "    #print(type(df))\n",
        "    #print(res)\n",
        "    print(df)\n",
        "    return df\n",
        "    ###############################################################################\n",
        "\n",
        "loaded_data = Inseart_data_upbit('KRW-BTC', 'minute5',50000)\n",
        "dataset = loaded_data.drop([loaded_data.columns[0], loaded_data.columns[1]], axis=1)\n",
        "times = dataset.index"
      ],
      "metadata": {
        "id": "7DE08sXmVZu8",
        "colab": {
          "base_uri": "https://localhost:8080/"
        },
        "outputId": "db03bbc3-7f56-488b-ccf9-95c73c96c4d2"
      },
      "execution_count": 21,
      "outputs": [
        {
          "output_type": "stream",
          "name": "stdout",
          "text": [
            "                               dateCoin   idCoin        open        high  \\\n",
            "2022-05-20 08:20:00 2022-05-20 08:20:00  KRW-BTC  38831000.0  38856000.0   \n",
            "2022-05-20 08:25:00 2022-05-20 08:25:00  KRW-BTC  38833000.0  38834000.0   \n",
            "2022-05-20 08:30:00 2022-05-20 08:30:00  KRW-BTC  38816000.0  38852000.0   \n",
            "2022-05-20 08:35:00 2022-05-20 08:35:00  KRW-BTC  38851000.0  38868000.0   \n",
            "2022-05-20 08:40:00 2022-05-20 08:40:00  KRW-BTC  38853000.0  38860000.0   \n",
            "...                                 ...      ...         ...         ...   \n",
            "2022-08-08 22:45:00 2022-08-08 22:45:00  KRW-BTC  31844000.0  31890000.0   \n",
            "2022-08-08 22:50:00 2022-08-08 22:50:00  KRW-BTC  31880000.0  31887000.0   \n",
            "2022-08-08 22:55:00 2022-08-08 22:55:00  KRW-BTC  31862000.0  31887000.0   \n",
            "2022-08-08 23:00:00 2022-08-08 23:00:00  KRW-BTC  31861000.0  31861000.0   \n",
            "2022-08-08 23:05:00 2022-08-08 23:05:00  KRW-BTC  31858000.0  31859000.0   \n",
            "\n",
            "                            low       close     volume         value  \n",
            "2022-05-20 08:20:00  38786000.0  38833000.0  11.061527  4.294707e+08  \n",
            "2022-05-20 08:25:00  38728000.0  38815000.0  12.502793  4.849029e+08  \n",
            "2022-05-20 08:30:00  38793000.0  38851000.0  16.893099  6.558325e+08  \n",
            "2022-05-20 08:35:00  38837000.0  38853000.0   8.840419  3.435109e+08  \n",
            "2022-05-20 08:40:00  38768000.0  38851000.0  12.155674  4.718722e+08  \n",
            "...                         ...         ...        ...           ...  \n",
            "2022-08-08 22:45:00  31805000.0  31880000.0  59.505660  1.895094e+09  \n",
            "2022-08-08 22:50:00  31861000.0  31861000.0  30.905466  9.849529e+08  \n",
            "2022-08-08 22:55:00  31860000.0  31860000.0  24.712470  7.874939e+08  \n",
            "2022-08-08 23:00:00  31858000.0  31858000.0  18.573383  5.917222e+08  \n",
            "2022-08-08 23:05:00  31858000.0  31859000.0   0.530286  1.689389e+07  \n",
            "\n",
            "[50000 rows x 8 columns]\n"
          ]
        }
      ]
    },
    {
      "cell_type": "code",
      "source": [
        "times"
      ],
      "metadata": {
        "id": "V9VaiIa04l9k",
        "colab": {
          "base_uri": "https://localhost:8080/"
        },
        "outputId": "67825870-2a67-453b-a07e-fb7e8e6f2db2"
      },
      "execution_count": 22,
      "outputs": [
        {
          "output_type": "execute_result",
          "data": {
            "text/plain": [
              "DatetimeIndex(['2022-05-20 08:20:00', '2022-05-20 08:25:00',\n",
              "               '2022-05-20 08:30:00', '2022-05-20 08:35:00',\n",
              "               '2022-05-20 08:40:00', '2022-05-20 08:45:00',\n",
              "               '2022-05-20 08:50:00', '2022-05-20 08:55:00',\n",
              "               '2022-05-20 09:00:00', '2022-05-20 09:05:00',\n",
              "               ...\n",
              "               '2022-08-08 22:20:00', '2022-08-08 22:25:00',\n",
              "               '2022-08-08 22:30:00', '2022-08-08 22:35:00',\n",
              "               '2022-08-08 22:40:00', '2022-08-08 22:45:00',\n",
              "               '2022-08-08 22:50:00', '2022-08-08 22:55:00',\n",
              "               '2022-08-08 23:00:00', '2022-08-08 23:05:00'],\n",
              "              dtype='datetime64[ns]', length=50000, freq=None)"
            ]
          },
          "metadata": {},
          "execution_count": 22
        }
      ]
    },
    {
      "cell_type": "code",
      "source": [
        "dataset"
      ],
      "metadata": {
        "id": "KCzYhl-64qg3",
        "colab": {
          "base_uri": "https://localhost:8080/",
          "height": 424
        },
        "outputId": "d2948296-c122-4bfe-a31b-779830531f84"
      },
      "execution_count": 23,
      "outputs": [
        {
          "output_type": "execute_result",
          "data": {
            "text/plain": [
              "                           open        high         low       close  \\\n",
              "2022-05-20 08:20:00  38831000.0  38856000.0  38786000.0  38833000.0   \n",
              "2022-05-20 08:25:00  38833000.0  38834000.0  38728000.0  38815000.0   \n",
              "2022-05-20 08:30:00  38816000.0  38852000.0  38793000.0  38851000.0   \n",
              "2022-05-20 08:35:00  38851000.0  38868000.0  38837000.0  38853000.0   \n",
              "2022-05-20 08:40:00  38853000.0  38860000.0  38768000.0  38851000.0   \n",
              "...                         ...         ...         ...         ...   \n",
              "2022-08-08 22:45:00  31844000.0  31890000.0  31805000.0  31880000.0   \n",
              "2022-08-08 22:50:00  31880000.0  31887000.0  31861000.0  31861000.0   \n",
              "2022-08-08 22:55:00  31862000.0  31887000.0  31860000.0  31860000.0   \n",
              "2022-08-08 23:00:00  31861000.0  31861000.0  31858000.0  31858000.0   \n",
              "2022-08-08 23:05:00  31858000.0  31859000.0  31858000.0  31859000.0   \n",
              "\n",
              "                        volume         value  \n",
              "2022-05-20 08:20:00  11.061527  4.294707e+08  \n",
              "2022-05-20 08:25:00  12.502793  4.849029e+08  \n",
              "2022-05-20 08:30:00  16.893099  6.558325e+08  \n",
              "2022-05-20 08:35:00   8.840419  3.435109e+08  \n",
              "2022-05-20 08:40:00  12.155674  4.718722e+08  \n",
              "...                        ...           ...  \n",
              "2022-08-08 22:45:00  59.505660  1.895094e+09  \n",
              "2022-08-08 22:50:00  30.905466  9.849529e+08  \n",
              "2022-08-08 22:55:00  24.712470  7.874939e+08  \n",
              "2022-08-08 23:00:00  18.573383  5.917222e+08  \n",
              "2022-08-08 23:05:00   0.530286  1.689389e+07  \n",
              "\n",
              "[50000 rows x 6 columns]"
            ],
            "text/html": [
              "\n",
              "  <div id=\"df-477e1a34-10e6-40ad-bd0c-92976ea9de51\">\n",
              "    <div class=\"colab-df-container\">\n",
              "      <div>\n",
              "<style scoped>\n",
              "    .dataframe tbody tr th:only-of-type {\n",
              "        vertical-align: middle;\n",
              "    }\n",
              "\n",
              "    .dataframe tbody tr th {\n",
              "        vertical-align: top;\n",
              "    }\n",
              "\n",
              "    .dataframe thead th {\n",
              "        text-align: right;\n",
              "    }\n",
              "</style>\n",
              "<table border=\"1\" class=\"dataframe\">\n",
              "  <thead>\n",
              "    <tr style=\"text-align: right;\">\n",
              "      <th></th>\n",
              "      <th>open</th>\n",
              "      <th>high</th>\n",
              "      <th>low</th>\n",
              "      <th>close</th>\n",
              "      <th>volume</th>\n",
              "      <th>value</th>\n",
              "    </tr>\n",
              "  </thead>\n",
              "  <tbody>\n",
              "    <tr>\n",
              "      <th>2022-05-20 08:20:00</th>\n",
              "      <td>38831000.0</td>\n",
              "      <td>38856000.0</td>\n",
              "      <td>38786000.0</td>\n",
              "      <td>38833000.0</td>\n",
              "      <td>11.061527</td>\n",
              "      <td>4.294707e+08</td>\n",
              "    </tr>\n",
              "    <tr>\n",
              "      <th>2022-05-20 08:25:00</th>\n",
              "      <td>38833000.0</td>\n",
              "      <td>38834000.0</td>\n",
              "      <td>38728000.0</td>\n",
              "      <td>38815000.0</td>\n",
              "      <td>12.502793</td>\n",
              "      <td>4.849029e+08</td>\n",
              "    </tr>\n",
              "    <tr>\n",
              "      <th>2022-05-20 08:30:00</th>\n",
              "      <td>38816000.0</td>\n",
              "      <td>38852000.0</td>\n",
              "      <td>38793000.0</td>\n",
              "      <td>38851000.0</td>\n",
              "      <td>16.893099</td>\n",
              "      <td>6.558325e+08</td>\n",
              "    </tr>\n",
              "    <tr>\n",
              "      <th>2022-05-20 08:35:00</th>\n",
              "      <td>38851000.0</td>\n",
              "      <td>38868000.0</td>\n",
              "      <td>38837000.0</td>\n",
              "      <td>38853000.0</td>\n",
              "      <td>8.840419</td>\n",
              "      <td>3.435109e+08</td>\n",
              "    </tr>\n",
              "    <tr>\n",
              "      <th>2022-05-20 08:40:00</th>\n",
              "      <td>38853000.0</td>\n",
              "      <td>38860000.0</td>\n",
              "      <td>38768000.0</td>\n",
              "      <td>38851000.0</td>\n",
              "      <td>12.155674</td>\n",
              "      <td>4.718722e+08</td>\n",
              "    </tr>\n",
              "    <tr>\n",
              "      <th>...</th>\n",
              "      <td>...</td>\n",
              "      <td>...</td>\n",
              "      <td>...</td>\n",
              "      <td>...</td>\n",
              "      <td>...</td>\n",
              "      <td>...</td>\n",
              "    </tr>\n",
              "    <tr>\n",
              "      <th>2022-08-08 22:45:00</th>\n",
              "      <td>31844000.0</td>\n",
              "      <td>31890000.0</td>\n",
              "      <td>31805000.0</td>\n",
              "      <td>31880000.0</td>\n",
              "      <td>59.505660</td>\n",
              "      <td>1.895094e+09</td>\n",
              "    </tr>\n",
              "    <tr>\n",
              "      <th>2022-08-08 22:50:00</th>\n",
              "      <td>31880000.0</td>\n",
              "      <td>31887000.0</td>\n",
              "      <td>31861000.0</td>\n",
              "      <td>31861000.0</td>\n",
              "      <td>30.905466</td>\n",
              "      <td>9.849529e+08</td>\n",
              "    </tr>\n",
              "    <tr>\n",
              "      <th>2022-08-08 22:55:00</th>\n",
              "      <td>31862000.0</td>\n",
              "      <td>31887000.0</td>\n",
              "      <td>31860000.0</td>\n",
              "      <td>31860000.0</td>\n",
              "      <td>24.712470</td>\n",
              "      <td>7.874939e+08</td>\n",
              "    </tr>\n",
              "    <tr>\n",
              "      <th>2022-08-08 23:00:00</th>\n",
              "      <td>31861000.0</td>\n",
              "      <td>31861000.0</td>\n",
              "      <td>31858000.0</td>\n",
              "      <td>31858000.0</td>\n",
              "      <td>18.573383</td>\n",
              "      <td>5.917222e+08</td>\n",
              "    </tr>\n",
              "    <tr>\n",
              "      <th>2022-08-08 23:05:00</th>\n",
              "      <td>31858000.0</td>\n",
              "      <td>31859000.0</td>\n",
              "      <td>31858000.0</td>\n",
              "      <td>31859000.0</td>\n",
              "      <td>0.530286</td>\n",
              "      <td>1.689389e+07</td>\n",
              "    </tr>\n",
              "  </tbody>\n",
              "</table>\n",
              "<p>50000 rows × 6 columns</p>\n",
              "</div>\n",
              "      <button class=\"colab-df-convert\" onclick=\"convertToInteractive('df-477e1a34-10e6-40ad-bd0c-92976ea9de51')\"\n",
              "              title=\"Convert this dataframe to an interactive table.\"\n",
              "              style=\"display:none;\">\n",
              "        \n",
              "  <svg xmlns=\"http://www.w3.org/2000/svg\" height=\"24px\"viewBox=\"0 0 24 24\"\n",
              "       width=\"24px\">\n",
              "    <path d=\"M0 0h24v24H0V0z\" fill=\"none\"/>\n",
              "    <path d=\"M18.56 5.44l.94 2.06.94-2.06 2.06-.94-2.06-.94-.94-2.06-.94 2.06-2.06.94zm-11 1L8.5 8.5l.94-2.06 2.06-.94-2.06-.94L8.5 2.5l-.94 2.06-2.06.94zm10 10l.94 2.06.94-2.06 2.06-.94-2.06-.94-.94-2.06-.94 2.06-2.06.94z\"/><path d=\"M17.41 7.96l-1.37-1.37c-.4-.4-.92-.59-1.43-.59-.52 0-1.04.2-1.43.59L10.3 9.45l-7.72 7.72c-.78.78-.78 2.05 0 2.83L4 21.41c.39.39.9.59 1.41.59.51 0 1.02-.2 1.41-.59l7.78-7.78 2.81-2.81c.8-.78.8-2.07 0-2.86zM5.41 20L4 18.59l7.72-7.72 1.47 1.35L5.41 20z\"/>\n",
              "  </svg>\n",
              "      </button>\n",
              "      \n",
              "  <style>\n",
              "    .colab-df-container {\n",
              "      display:flex;\n",
              "      flex-wrap:wrap;\n",
              "      gap: 12px;\n",
              "    }\n",
              "\n",
              "    .colab-df-convert {\n",
              "      background-color: #E8F0FE;\n",
              "      border: none;\n",
              "      border-radius: 50%;\n",
              "      cursor: pointer;\n",
              "      display: none;\n",
              "      fill: #1967D2;\n",
              "      height: 32px;\n",
              "      padding: 0 0 0 0;\n",
              "      width: 32px;\n",
              "    }\n",
              "\n",
              "    .colab-df-convert:hover {\n",
              "      background-color: #E2EBFA;\n",
              "      box-shadow: 0px 1px 2px rgba(60, 64, 67, 0.3), 0px 1px 3px 1px rgba(60, 64, 67, 0.15);\n",
              "      fill: #174EA6;\n",
              "    }\n",
              "\n",
              "    [theme=dark] .colab-df-convert {\n",
              "      background-color: #3B4455;\n",
              "      fill: #D2E3FC;\n",
              "    }\n",
              "\n",
              "    [theme=dark] .colab-df-convert:hover {\n",
              "      background-color: #434B5C;\n",
              "      box-shadow: 0px 1px 3px 1px rgba(0, 0, 0, 0.15);\n",
              "      filter: drop-shadow(0px 1px 2px rgba(0, 0, 0, 0.3));\n",
              "      fill: #FFFFFF;\n",
              "    }\n",
              "  </style>\n",
              "\n",
              "      <script>\n",
              "        const buttonEl =\n",
              "          document.querySelector('#df-477e1a34-10e6-40ad-bd0c-92976ea9de51 button.colab-df-convert');\n",
              "        buttonEl.style.display =\n",
              "          google.colab.kernel.accessAllowed ? 'block' : 'none';\n",
              "\n",
              "        async function convertToInteractive(key) {\n",
              "          const element = document.querySelector('#df-477e1a34-10e6-40ad-bd0c-92976ea9de51');\n",
              "          const dataTable =\n",
              "            await google.colab.kernel.invokeFunction('convertToInteractive',\n",
              "                                                     [key], {});\n",
              "          if (!dataTable) return;\n",
              "\n",
              "          const docLinkHtml = 'Like what you see? Visit the ' +\n",
              "            '<a target=\"_blank\" href=https://colab.research.google.com/notebooks/data_table.ipynb>data table notebook</a>'\n",
              "            + ' to learn more about interactive tables.';\n",
              "          element.innerHTML = '';\n",
              "          dataTable['output_type'] = 'display_data';\n",
              "          await google.colab.output.renderOutput(dataTable, element);\n",
              "          const docLink = document.createElement('div');\n",
              "          docLink.innerHTML = docLinkHtml;\n",
              "          element.appendChild(docLink);\n",
              "        }\n",
              "      </script>\n",
              "    </div>\n",
              "  </div>\n",
              "  "
            ]
          },
          "metadata": {},
          "execution_count": 23
        }
      ]
    },
    {
      "cell_type": "code",
      "source": [
        "# 3번\n",
        "\n",
        "import numpy as np\n",
        "import pandas as pd\n",
        "import tensorflow as tf\n",
        "import matplotlib.pyplot as plt\n",
        "from datetime import datetime, timedelta\n",
        "\n",
        "\n",
        "#plt.rcParams['font.family'] = 'Malgun Gothic'\n",
        "\n",
        "class My_Lstm:\n",
        "    def windowed_dataset(self, series, window_size, batch_size, shuffle_buffer):\n",
        "        series = tf.expand_dims(series, axis=-1)\n",
        "        ds = tf.data.Dataset.from_tensor_slices(series)\n",
        "        ds = ds.window(window_size + 1, shift=1, drop_remainder=True)\n",
        "        ds = ds.flat_map(lambda w: w.batch(window_size + 1))\n",
        "        ds = ds.shuffle(shuffle_buffer)\n",
        "        ds = ds.map(lambda w: (w[:-1], w[1:]))\n",
        "\n",
        "        return ds.batch(batch_size).prefetch(1)\n",
        "\n",
        "    def __dataframe_to_series(self, dataframe, col='open'):\n",
        "        data = dataframe\n",
        "\n",
        "        return np.asarray(data[col], dtype='float32')\n",
        "\n",
        "    def scale_data_fit(self, series):\n",
        "        self.min_scale = np.min(series)\n",
        "        self.max_scale = np.max(series)\n",
        "\n",
        "    def scale_data(self, series):\n",
        "        series = np.array(series)\n",
        "        series -= self.min_scale\n",
        "        series /= self.max_scale\n",
        "\n",
        "        return series\n",
        "\n",
        "    def un_scale_data(self, series):\n",
        "        series = np.array(series)\n",
        "        series *= self.max_scale\n",
        "        series += self.min_scale\n",
        "\n",
        "        return series\n",
        "\n",
        "    def keras_layers_compile(self, loss='mse', optimizer='adam', metrics='mse'):\n",
        "\n",
        "        self.model = tf.keras.Sequential([\n",
        "            #tf.keras.layers.LSTM(128, input_shape=[None, 1], return_sequences=True, recurrent_dropout=0.2,dropout=0.2),\n",
        "            # tf.keras.layers.BatchNormalization(input_shape=[None, 1]),\n",
        "            \n",
        "            tf.compat.v1.keras.layers.CuDNNLSTM(64, input_shape=[None, 1], return_sequences=True,),\n",
        "            tf.keras.layers.Bidirectional(tf.compat.v1.keras.layers.CuDNNLSTM(128,return_sequences=True,)),\n",
        "            tf.keras.layers.GlobalAveragePooling1D(),\n",
        "            tf.keras.layers.Dense(256),\n",
        "            tf.keras.layers.Dropout(0.2),\n",
        "            tf.keras.layers.Dense(32),\n",
        "            tf.keras.layers.Dropout(0.2),\n",
        "            tf.keras.layers.Dense(1)])\n",
        "\n",
        "        self.model.compile(loss=loss, optimizer=optimizer, metrics=metrics)\n",
        "\n",
        "    def callbacks(self, monitor='loss', mode='min', patience=10):\n",
        "        lr_schedule = tf.keras.callbacks.LearningRateScheduler(lambda epoch: 1e-8 * 10 ** (epoch / 10))\n",
        "        earlystop = tf.keras.callbacks.EarlyStopping(monitor='loss', mode='mse', patience=10)\n",
        "        ModelCheckpoint = tf.keras.callbacks.ModelCheckpoint(self.h5_name, monitor='loss', save_best_only=True)\n",
        "    \n",
        "        return [lr_schedule, earlystop, ModelCheckpoint]\n",
        "        \n",
        "\n",
        "    def train_data_load(self, dataframe, col='close', scale=True, train_mode=True, window_size=24, batch_size=16,shuffle_buffer=30000,interval='minute10'):\n",
        "        self.scale = scale\n",
        "        self.interval = interval\n",
        "\n",
        "        # Dataframe to series 하나의 컬럼만 가져와서 예측진행\n",
        "        series = self.__dataframe_to_series(dataframe, col=col)\n",
        "        self.times = dataframe.index\n",
        "\n",
        "        # 원본데이터 백업\n",
        "        self.backup_series = series\n",
        "\n",
        "        # Scale 진행 MinMax scale\n",
        "\n",
        "        if train_mode:\n",
        "            if self.scale:\n",
        "                self.scale_data_fit(series)\n",
        "                series = self.scale_data(series)\n",
        "        else:\n",
        "            if self.scale:\n",
        "                self.scale_data_fit(series)\n",
        "\n",
        "        # Tensorflow 전용 데이터셋으로 변환 (window size=예측할 날짜수)\n",
        "        self.window_size = window_size\n",
        "\n",
        "        if train_mode:\n",
        "            series = self.windowed_dataset(series, self.window_size, batch_size, shuffle_buffer)\n",
        "\n",
        "            self.series = series\n",
        "        else:\n",
        "            self.series = series\n",
        "\n",
        "    def train_lstm(self,h5_name, epochs=100, callbacks=None, loss='mae', optimizer='adam', metrics='mae', ):\n",
        "\n",
        "        self.h5_name = h5_name\n",
        "        # Keras\n",
        "        self.keras_layers_compile(loss=loss, optimizer=optimizer, metrics=metrics)\n",
        "        if callbacks:\n",
        "            callbacks = self.callbacks()\n",
        "            self.model.fit(self.series, epochs=epochs, callbacks=callbacks)\n",
        "        else:\n",
        "            self.model.fit(self.series, epochs=epochs)\n",
        "\n",
        "\n",
        "    def save_md(self, name):\n",
        "        try:\n",
        "            self.model.save(name)\n",
        "        except:\n",
        "            print('Error!')\n",
        "\n",
        "    def model_load(self, name, compile=True):\n",
        "        if compile:\n",
        "            self.keras_layers_compile()\n",
        "            self.model = tf.keras.models.load_model(name)\n",
        "        else:\n",
        "            self.model = tf.keras.models.load_model(name)\n",
        "\n",
        "    def predict(self, times, ranges=[0, 200]):\n",
        "        predicts = []\n",
        "        self.ranges = ranges\n",
        "        # self.backup_series_to_un_scale = self.un_scale_data(self.backup_series[ranges[0]:ranges[1]])\n",
        "\n",
        "        self.time_series = times[ranges[0]:ranges[1]]\n",
        "\n",
        "        ranges_series = self.backup_series[ranges[0]:ranges[1]]\n",
        "\n",
        "        if self.scale:\n",
        "\n",
        "            ranges_series_scale = self.scale_data(ranges_series)\n",
        "\n",
        "            for time in range(len(ranges_series_scale) - self.window_size):\n",
        "                pred = np.array(ranges_series_scale[time: time + self.window_size])\n",
        "\n",
        "                pred = pred.reshape(1, -1, 1)\n",
        "\n",
        "                predict = self.model.predict(pred)\n",
        "\n",
        "                predicts.append(predict[0][0])\n",
        "            # 수정부분\n",
        "            predicts = self.un_scale_data(predicts)\n",
        "        else:\n",
        "\n",
        "            for time in range(len(ranges_series) - self.window_size):\n",
        "                pred = np.array(ranges_series[time: time + self.window_size])\n",
        "\n",
        "                pred = pred.reshape(1, -1, 1)\n",
        "\n",
        "                predict = self.model.predict(pred)\n",
        "\n",
        "                predicts.append(predict[0][0])\n",
        "\n",
        "        return predicts\n",
        "\n",
        "    def predict_plot(self, predicts):\n",
        "\n",
        "        plt.figure(figsize=(12, 8))\n",
        "        plt.plot(self.time_series[:-self.window_size], predicts, color='red', label='Predict')\n",
        "        plt.plot(self.time_series[:-self.window_size],\n",
        "                 self.backup_series[self.ranges[0]:self.ranges[1] - self.window_size], color='blue', label='Real')\n",
        "        plt.legend(loc='center left')\n",
        "        plt.show()\n",
        "\n",
        "    def predict_last_few(self, future_, minutes=10):\n",
        "\n",
        "        _last_future_series = self.backup_series[-self.window_size:]\n",
        "\n",
        "        self.pred_times = self.times[-self.window_size:]\n",
        "        self.pred_times = self.pred_times.to_list()\n",
        "\n",
        "        self.future_ = future_\n",
        "        futures = []\n",
        "\n",
        "        if self.scale:\n",
        "\n",
        "            _last_future_series = self.scale_data(_last_future_series)\n",
        "\n",
        "            for time in range(future_):\n",
        "                pred = np.array(_last_future_series, dtype='float64')\n",
        "\n",
        "                pred = pred.reshape(1, -1, 1)\n",
        "\n",
        "                predict = self.model.predict(pred)\n",
        "\n",
        "                _last_future_series = np.append(_last_future_series, predict[0][0])\n",
        "\n",
        "                futures.append(predict[0][0])\n",
        "\n",
        "                # 시간도 동일하게 추가 및 제거\n",
        "                self.pred_times.append(self.pred_times[-1] + timedelta(minutes=minutes))  # 추후 변경예정\n",
        "                self.pred_times.pop(0)\n",
        "\n",
        "                _last_future_series = np.delete(_last_future_series, 0)\n",
        "\n",
        "            futures = self.un_scale_data(futures)\n",
        "            _last_future_series = self.un_scale_data(_last_future_series)\n",
        "            # Test\n",
        "            #_last_future_series[-self.future_:] -= 182.35088730159788 \n",
        "\n",
        "        else:\n",
        "\n",
        "            for time in range(future_):\n",
        "                pred = np.array(_last_future_series, dtype='float64')\n",
        "\n",
        "                pred = pred.reshape(1, -1, 1)\n",
        "\n",
        "                predict = self.model.predict(pred)\n",
        "\n",
        "                _last_future_series = np.append(_last_future_series, predict[0][0])\n",
        "                futures.append(predict[0][0])\n",
        "\n",
        "                # 시간도 동일하게 추가 및 제거\n",
        "                self.pred_times.append(self.pred_times[-1] + timedelta(minutes=minutes))  # 추후 변경예정\n",
        "                self.pred_times.pop(0)\n",
        "\n",
        "                _last_future_series = np.delete(_last_future_series, 0)\n",
        "\n",
        "        self.futures = futures\n",
        "        self._last_future_series = _last_future_series\n",
        "\n",
        "        self.pred_times = pd.DatetimeIndex(self.pred_times)\n",
        "\n",
        "    def plot_few_(self, coinid):\n",
        "        threshold = np.ones_like(self._last_future_series, dtype=bool)\n",
        "        threshold[:-self.future_] = False\n",
        "\n",
        "        pred_y = self._last_future_series\n",
        "\n",
        "        plt.plot(self.pred_times, pred_y, color='blue', label='Real')\n",
        "        plt.plot(self.pred_times[threshold], pred_y[threshold], color='red', label='Predict')\n",
        "        plt.title(f\"{coinid} {self.interval} {self.future_}개 예측결과\")\n",
        "        plt.legend(loc='center left')\n",
        "        plt.show()"
      ],
      "metadata": {
        "id": "dlu1fqQe4r7X"
      },
      "execution_count": 24,
      "outputs": []
    },
    {
      "cell_type": "code",
      "source": [
        "# 예측할 코인 ID\n",
        "coinid = 'BTC'\n",
        "\n",
        "# 시작가 or 종료가\n",
        "col = 'close'\n",
        "\n",
        "# 분봉 단위 및 day단위\n",
        "interval = 'minute5'\n",
        "\n",
        "# API를 통해서 가져올 데이터의 수\n",
        "rows = 50000"
      ],
      "metadata": {
        "id": "3W_9qaLSmPZz"
      },
      "execution_count": 25,
      "outputs": []
    },
    {
      "cell_type": "code",
      "source": [
        "# 훈련횟수\n",
        "epochs = 100\n",
        "# 예측 1개에 사용할 갯수\n",
        "window_size = 12\n",
        "# 훈련시 학습에 사용할 데이터의 집합 크기\n",
        "batch_size = 12\n",
        "# random(데이터의 수 보다 커야함)\n",
        "shuffle_buffer = 60000\n",
        "\n",
        "mylstm = My_Lstm()"
      ],
      "metadata": {
        "id": "BA_nPe7Lki4r"
      },
      "execution_count": 26,
      "outputs": []
    },
    {
      "cell_type": "code",
      "source": [
        "# 학습전 셋팅 진행\n",
        "mylstm.train_data_load(dataset,col=col,scale=True,train_mode=True, interval=interval,window_size=window_size,batch_size=batch_size,shuffle_buffer=shuffle_buffer)"
      ],
      "metadata": {
        "id": "luAmqT_Kk52P"
      },
      "execution_count": 27,
      "outputs": []
    },
    {
      "cell_type": "code",
      "source": [
        "# start training\n",
        "h5_name = f\"{coinid}_win:{window_size}_epoch:{epochs}_batch:{batch_size}_interval:{interval}_{int(mylstm.max_scale)}_{int(mylstm.min_scale)}.h5\"\n",
        "mylstm.train_lstm(loss = 'mse',metrics = 'mse',epochs = epochs,callbacks = 'go',h5_name = h5_name)"
      ],
      "metadata": {
        "id": "hQmjt2i4lmDb",
        "colab": {
          "base_uri": "https://localhost:8080/"
        },
        "outputId": "2d628d81-01db-4ffd-db9c-a9cf1cf7cd10"
      },
      "execution_count": 28,
      "outputs": [
        {
          "output_type": "stream",
          "name": "stdout",
          "text": [
            "WARNING:tensorflow:EarlyStopping mode mse is unknown, fallback to auto mode.\n"
          ]
        },
        {
          "output_type": "stream",
          "name": "stderr",
          "text": [
            "WARNING:tensorflow:EarlyStopping mode mse is unknown, fallback to auto mode.\n"
          ]
        },
        {
          "output_type": "stream",
          "name": "stdout",
          "text": [
            "Epoch 1/100\n",
            "4166/4166 [==============================] - 39s 7ms/step - loss: 0.0405 - mse: 0.0405 - lr: 1.0000e-08\n",
            "Epoch 2/100\n",
            "4166/4166 [==============================] - 31s 7ms/step - loss: 0.0382 - mse: 0.0382 - lr: 1.2589e-08\n",
            "Epoch 3/100\n",
            "4166/4166 [==============================] - 31s 7ms/step - loss: 0.0355 - mse: 0.0355 - lr: 1.5849e-08\n",
            "Epoch 4/100\n",
            "4166/4166 [==============================] - 32s 7ms/step - loss: 0.0322 - mse: 0.0322 - lr: 1.9953e-08\n",
            "Epoch 5/100\n",
            "4166/4166 [==============================] - 31s 7ms/step - loss: 0.0283 - mse: 0.0283 - lr: 2.5119e-08\n",
            "Epoch 6/100\n",
            "4166/4166 [==============================] - 31s 7ms/step - loss: 0.0239 - mse: 0.0239 - lr: 3.1623e-08\n",
            "Epoch 7/100\n",
            "4166/4166 [==============================] - 31s 7ms/step - loss: 0.0189 - mse: 0.0189 - lr: 3.9811e-08\n",
            "Epoch 8/100\n",
            "4166/4166 [==============================] - 32s 7ms/step - loss: 0.0137 - mse: 0.0137 - lr: 5.0119e-08\n",
            "Epoch 9/100\n",
            "4166/4166 [==============================] - 31s 7ms/step - loss: 0.0090 - mse: 0.0090 - lr: 6.3096e-08\n",
            "Epoch 10/100\n",
            "4166/4166 [==============================] - 31s 7ms/step - loss: 0.0057 - mse: 0.0057 - lr: 7.9433e-08\n",
            "Epoch 11/100\n",
            "4166/4166 [==============================] - 31s 7ms/step - loss: 0.0042 - mse: 0.0042 - lr: 1.0000e-07\n",
            "Epoch 12/100\n",
            "4166/4166 [==============================] - 31s 7ms/step - loss: 0.0029 - mse: 0.0029 - lr: 1.2589e-07\n",
            "Epoch 13/100\n",
            "4166/4166 [==============================] - 31s 7ms/step - loss: 0.0017 - mse: 0.0017 - lr: 1.5849e-07\n",
            "Epoch 14/100\n",
            "4166/4166 [==============================] - 31s 7ms/step - loss: 9.4349e-04 - mse: 9.4349e-04 - lr: 1.9953e-07\n",
            "Epoch 15/100\n",
            "4166/4166 [==============================] - 32s 7ms/step - loss: 6.9703e-04 - mse: 6.9703e-04 - lr: 2.5119e-07\n",
            "Epoch 16/100\n",
            "4166/4166 [==============================] - 31s 7ms/step - loss: 6.6609e-04 - mse: 6.6609e-04 - lr: 3.1623e-07\n",
            "Epoch 17/100\n",
            "4166/4166 [==============================] - 31s 7ms/step - loss: 6.2745e-04 - mse: 6.2745e-04 - lr: 3.9811e-07\n",
            "Epoch 18/100\n",
            "4166/4166 [==============================] - 32s 7ms/step - loss: 6.1803e-04 - mse: 6.1803e-04 - lr: 5.0119e-07\n",
            "Epoch 19/100\n",
            "4166/4166 [==============================] - 31s 7ms/step - loss: 5.9180e-04 - mse: 5.9180e-04 - lr: 6.3096e-07\n",
            "Epoch 20/100\n",
            "4166/4166 [==============================] - 31s 7ms/step - loss: 5.6459e-04 - mse: 5.6459e-04 - lr: 7.9433e-07\n",
            "Epoch 21/100\n",
            "4166/4166 [==============================] - 31s 7ms/step - loss: 5.3846e-04 - mse: 5.3846e-04 - lr: 1.0000e-06\n",
            "Epoch 22/100\n",
            "4166/4166 [==============================] - 32s 7ms/step - loss: 5.2365e-04 - mse: 5.2365e-04 - lr: 1.2589e-06\n",
            "Epoch 23/100\n",
            "4166/4166 [==============================] - 31s 7ms/step - loss: 5.0553e-04 - mse: 5.0553e-04 - lr: 1.5849e-06\n",
            "Epoch 24/100\n",
            "4166/4166 [==============================] - 31s 7ms/step - loss: 4.8294e-04 - mse: 4.8294e-04 - lr: 1.9953e-06\n",
            "Epoch 25/100\n",
            "4166/4166 [==============================] - 31s 7ms/step - loss: 4.5323e-04 - mse: 4.5323e-04 - lr: 2.5119e-06\n",
            "Epoch 26/100\n",
            "4166/4166 [==============================] - 31s 7ms/step - loss: 4.3993e-04 - mse: 4.3993e-04 - lr: 3.1623e-06\n",
            "Epoch 27/100\n",
            "4166/4166 [==============================] - 31s 7ms/step - loss: 4.1292e-04 - mse: 4.1292e-04 - lr: 3.9811e-06\n",
            "Epoch 28/100\n",
            "4166/4166 [==============================] - 31s 7ms/step - loss: 3.9047e-04 - mse: 3.9047e-04 - lr: 5.0119e-06\n",
            "Epoch 29/100\n",
            "4166/4166 [==============================] - 31s 7ms/step - loss: 3.5800e-04 - mse: 3.5800e-04 - lr: 6.3096e-06\n",
            "Epoch 30/100\n",
            "4166/4166 [==============================] - 32s 7ms/step - loss: 3.3475e-04 - mse: 3.3475e-04 - lr: 7.9433e-06\n",
            "Epoch 31/100\n",
            "4166/4166 [==============================] - 31s 7ms/step - loss: 3.0975e-04 - mse: 3.0975e-04 - lr: 1.0000e-05\n",
            "Epoch 32/100\n",
            "4166/4166 [==============================] - 31s 7ms/step - loss: 2.8378e-04 - mse: 2.8378e-04 - lr: 1.2589e-05\n",
            "Epoch 33/100\n",
            "4166/4166 [==============================] - 31s 7ms/step - loss: 2.5070e-04 - mse: 2.5070e-04 - lr: 1.5849e-05\n",
            "Epoch 34/100\n",
            "4166/4166 [==============================] - 30s 7ms/step - loss: 2.2346e-04 - mse: 2.2346e-04 - lr: 1.9953e-05\n",
            "Epoch 35/100\n",
            "4166/4166 [==============================] - 31s 7ms/step - loss: 2.0261e-04 - mse: 2.0261e-04 - lr: 2.5119e-05\n",
            "Epoch 36/100\n",
            "4166/4166 [==============================] - 30s 7ms/step - loss: 1.8079e-04 - mse: 1.8079e-04 - lr: 3.1623e-05\n",
            "Epoch 37/100\n",
            "4166/4166 [==============================] - 31s 7ms/step - loss: 1.6532e-04 - mse: 1.6532e-04 - lr: 3.9811e-05\n",
            "Epoch 38/100\n",
            "4166/4166 [==============================] - 31s 7ms/step - loss: 1.5813e-04 - mse: 1.5813e-04 - lr: 5.0119e-05\n",
            "Epoch 39/100\n",
            "4166/4166 [==============================] - 31s 7ms/step - loss: 1.5588e-04 - mse: 1.5588e-04 - lr: 6.3096e-05\n",
            "Epoch 40/100\n",
            "4166/4166 [==============================] - 30s 7ms/step - loss: 1.5552e-04 - mse: 1.5552e-04 - lr: 7.9433e-05\n",
            "Epoch 41/100\n",
            "4166/4166 [==============================] - 31s 7ms/step - loss: 1.5276e-04 - mse: 1.5276e-04 - lr: 1.0000e-04\n",
            "Epoch 42/100\n",
            "4166/4166 [==============================] - 31s 7ms/step - loss: 1.5562e-04 - mse: 1.5562e-04 - lr: 1.2589e-04\n",
            "Epoch 43/100\n",
            "4166/4166 [==============================] - 30s 7ms/step - loss: 1.5530e-04 - mse: 1.5530e-04 - lr: 1.5849e-04\n",
            "Epoch 44/100\n",
            "4166/4166 [==============================] - 30s 7ms/step - loss: 1.6117e-04 - mse: 1.6117e-04 - lr: 1.9953e-04\n",
            "Epoch 45/100\n",
            "4166/4166 [==============================] - 32s 7ms/step - loss: 1.6224e-04 - mse: 1.6224e-04 - lr: 2.5119e-04\n",
            "Epoch 46/100\n",
            "4166/4166 [==============================] - 31s 7ms/step - loss: 1.6938e-04 - mse: 1.6938e-04 - lr: 3.1623e-04\n",
            "Epoch 47/100\n",
            "4166/4166 [==============================] - 30s 7ms/step - loss: 1.6471e-04 - mse: 1.6471e-04 - lr: 3.9811e-04\n",
            "Epoch 48/100\n",
            "4166/4166 [==============================] - 31s 7ms/step - loss: 1.6809e-04 - mse: 1.6809e-04 - lr: 5.0119e-04\n",
            "Epoch 49/100\n",
            "4166/4166 [==============================] - 31s 7ms/step - loss: 1.6923e-04 - mse: 1.6923e-04 - lr: 6.3096e-04\n",
            "Epoch 50/100\n",
            "4166/4166 [==============================] - 31s 7ms/step - loss: 1.7299e-04 - mse: 1.7299e-04 - lr: 7.9433e-04\n",
            "Epoch 51/100\n",
            "4166/4166 [==============================] - 32s 7ms/step - loss: 1.7517e-04 - mse: 1.7517e-04 - lr: 0.0010\n"
          ]
        }
      ]
    },
    {
      "cell_type": "code",
      "source": [
        "pred1 = mylstm.predict(times,ranges=[48000,50000])"
      ],
      "metadata": {
        "id": "bKYpcXhsnI2W"
      },
      "execution_count": 29,
      "outputs": []
    },
    {
      "cell_type": "code",
      "source": [
        "mylstm.predict_plot(pred1)"
      ],
      "metadata": {
        "id": "QFDZ4MJU3eUG",
        "colab": {
          "base_uri": "https://localhost:8080/",
          "height": 494
        },
        "outputId": "3b1062b6-1e30-4e24-a401-6e2dd5f9f41a"
      },
      "execution_count": 30,
      "outputs": [
        {
          "output_type": "display_data",
          "data": {
            "text/plain": [
              "<Figure size 864x576 with 1 Axes>"
            ],
            "image/png": "[encoded data removed]"
          },
          "metadata": {
            "needs_background": "light"
          }
        }
      ]
    },
    {
      "cell_type": "code",
      "source": [
        ""
      ],
      "metadata": {
        "id": "4CPNRMuV3fnJ"
      },
      "execution_count": null,
      "outputs": []
    },
    {
      "cell_type": "markdown",
      "metadata": {
        "id": "N54buNvp93-X"
      },
      "source": [
        "#Test (학습된 모델로 바로 예측하기)"
      ]
    },
    {
      "cell_type": "code",
      "metadata": {
        "id": "BdpQTQXxQuk4"
      },
      "source": [
        "mylstm2 = My_Lstm()"
      ],
      "execution_count": 31,
      "outputs": []
    },
    {
      "cell_type": "code",
      "metadata": {
        "id": "9D_uoZbZm2t2"
      },
      "source": [
        "# 가중치 로드\n",
        "mylstm2.model_load(h5_name,compile=False,)"
      ],
      "execution_count": 32,
      "outputs": []
    },
    {
      "cell_type": "code",
      "metadata": {
        "id": "TBf_d_xEh1YV"
      },
      "source": [
        "# 예측할 코인 ID\n",
        "coinid = 'ZRX'\n",
        "\n",
        "# 시작가 or 종료가\n",
        "col = 'close'\n",
        "\n",
        "# 분봉 단위 및 day단위\n",
        "interval = 'minute10'\n",
        "\n",
        "# API를 통해서 가져올 데이터의 수\n",
        "rows = 1000"
      ],
      "execution_count": 33,
      "outputs": []
    },
    {
      "cell_type": "code",
      "metadata": {
        "id": "6vItgV2ihxrd",
        "colab": {
          "base_uri": "https://localhost:8080/"
        },
        "outputId": "539fee4f-569c-4a91-eeb0-220900a34567"
      },
      "source": [
        "# 데이터 가져오기 위에서 지정한 변수로 입력값 바꿔야함\n",
        "loaded_data = Inseart_data_upbit('KRW-ZRX', 'minute5',1000)\n",
        "dataset = loaded_data.drop([loaded_data.columns[0], loaded_data.columns[1]], axis=1)\n",
        "times = dataset.index"
      ],
      "execution_count": 34,
      "outputs": [
        {
          "output_type": "stream",
          "name": "stdout",
          "text": [
            "                               dateCoin   idCoin   open   high    low  close  \\\n",
            "2022-08-06 21:40:00 2022-08-06 21:40:00  KRW-ZRX  475.0  476.0  475.0  476.0   \n",
            "2022-08-06 21:45:00 2022-08-06 21:45:00  KRW-ZRX  475.0  475.0  475.0  475.0   \n",
            "2022-08-06 21:50:00 2022-08-06 21:50:00  KRW-ZRX  474.0  475.0  474.0  474.0   \n",
            "2022-08-06 21:55:00 2022-08-06 21:55:00  KRW-ZRX  475.0  475.0  474.0  474.0   \n",
            "2022-08-06 22:00:00 2022-08-06 22:00:00  KRW-ZRX  475.0  475.0  474.0  474.0   \n",
            "...                                 ...      ...    ...    ...    ...    ...   \n",
            "2022-08-08 23:30:00 2022-08-08 23:30:00  KRW-ZRX  483.0  484.0  483.0  483.0   \n",
            "2022-08-08 23:35:00 2022-08-08 23:35:00  KRW-ZRX  483.0  483.0  483.0  483.0   \n",
            "2022-08-08 23:40:00 2022-08-08 23:40:00  KRW-ZRX  483.0  484.0  483.0  484.0   \n",
            "2022-08-08 23:45:00 2022-08-08 23:45:00  KRW-ZRX  484.0  485.0  483.0  484.0   \n",
            "2022-08-08 23:50:00 2022-08-08 23:50:00  KRW-ZRX  484.0  484.0  483.0  484.0   \n",
            "\n",
            "                           volume         value  \n",
            "2022-08-06 21:40:00  47041.127085  2.234457e+07  \n",
            "2022-08-06 21:45:00   2746.036602  1.304367e+06  \n",
            "2022-08-06 21:50:00   1211.283524  5.744706e+05  \n",
            "2022-08-06 21:55:00  29937.234318  1.419412e+07  \n",
            "2022-08-06 22:00:00  11840.499711  5.623792e+06  \n",
            "...                           ...           ...  \n",
            "2022-08-08 23:30:00  38208.879860  1.846078e+07  \n",
            "2022-08-08 23:35:00   9720.866324  4.695178e+06  \n",
            "2022-08-08 23:40:00  28440.785547  1.374744e+07  \n",
            "2022-08-08 23:45:00  28913.288468  1.398312e+07  \n",
            "2022-08-08 23:50:00  19214.669862  9.282307e+06  \n",
            "\n",
            "[1000 rows x 8 columns]\n"
          ]
        }
      ]
    },
    {
      "cell_type": "code",
      "metadata": {
        "id": "Os70ks9_m6Q9"
      },
      "source": [
        "# 예측전 모델 셋팅\n",
        "mylstm2.train_data_load(dataset,col=col,scale=True,train_mode=False,interval='minute10')"
      ],
      "execution_count": 35,
      "outputs": []
    },
    {
      "cell_type": "code",
      "metadata": {
        "id": "V5IBOaSQRlQp"
      },
      "source": [
        "# 5개만 예측 ex.(10분봉 5개)\n",
        "mylstm2.predict_last_few(5,minutes=10)"
      ],
      "execution_count": 36,
      "outputs": []
    },
    {
      "cell_type": "code",
      "metadata": {
        "colab": {
          "base_uri": "https://localhost:8080/",
          "height": 668
        },
        "id": "f0XNU51pWDq3",
        "outputId": "8795fcb5-3b29-46c7-abb2-4d7c1d93d496"
      },
      "source": [
        "# 예측결과 plot으로 반환\n",
        "mylstm2.plot_few_(coinid=coinid)"
      ],
      "execution_count": 37,
      "outputs": [
        {
          "output_type": "stream",
          "name": "stderr",
          "text": [
            "/usr/local/lib/python3.7/dist-packages/matplotlib/backends/backend_agg.py:214: RuntimeWarning: Glyph 44060 missing from current font.\n",
            "  font.set_text(s, 0.0, flags=flags)\n",
            "/usr/local/lib/python3.7/dist-packages/matplotlib/backends/backend_agg.py:214: RuntimeWarning: Glyph 50696 missing from current font.\n",
            "  font.set_text(s, 0.0, flags=flags)\n",
            "/usr/local/lib/python3.7/dist-packages/matplotlib/backends/backend_agg.py:214: RuntimeWarning: Glyph 52769 missing from current font.\n",
            "  font.set_text(s, 0.0, flags=flags)\n",
            "/usr/local/lib/python3.7/dist-packages/matplotlib/backends/backend_agg.py:214: RuntimeWarning: Glyph 44208 missing from current font.\n",
            "  font.set_text(s, 0.0, flags=flags)\n",
            "/usr/local/lib/python3.7/dist-packages/matplotlib/backends/backend_agg.py:214: RuntimeWarning: Glyph 44284 missing from current font.\n",
            "  font.set_text(s, 0.0, flags=flags)\n",
            "/usr/local/lib/python3.7/dist-packages/matplotlib/backends/backend_agg.py:183: RuntimeWarning: Glyph 44060 missing from current font.\n",
            "  font.set_text(s, 0, flags=flags)\n",
            "/usr/local/lib/python3.7/dist-packages/matplotlib/backends/backend_agg.py:183: RuntimeWarning: Glyph 50696 missing from current font.\n",
            "  font.set_text(s, 0, flags=flags)\n",
            "/usr/local/lib/python3.7/dist-packages/matplotlib/backends/backend_agg.py:183: RuntimeWarning: Glyph 52769 missing from current font.\n",
            "  font.set_text(s, 0, flags=flags)\n",
            "/usr/local/lib/python3.7/dist-packages/matplotlib/backends/backend_agg.py:183: RuntimeWarning: Glyph 44208 missing from current font.\n",
            "  font.set_text(s, 0, flags=flags)\n",
            "/usr/local/lib/python3.7/dist-packages/matplotlib/backends/backend_agg.py:183: RuntimeWarning: Glyph 44284 missing from current font.\n",
            "  font.set_text(s, 0, flags=flags)\n"
          ]
        },
        {
          "output_type": "display_data",
          "data": {
            "text/plain": [
              "<Figure size 432x288 with 1 Axes>"
            ],
            "image/png": "[encoded data removed]"
          },
          "metadata": {
            "needs_background": "light"
          }
        }
      ]
    },
    {
      "cell_type": "code",
      "metadata": {
        "colab": {
          "base_uri": "https://localhost:8080/"
        },
        "id": "j9KQn6eujGQv",
        "outputId": "699c1ce4-fdc2-428a-d758-a177c4620e6c"
      },
      "source": [
        "mylstm2._last_future_series"
      ],
      "execution_count": 38,
      "outputs": [
        {
          "output_type": "execute_result",
          "data": {
            "text/plain": [
              "array([480.     , 480.     , 483.     , 481.     , 482.     , 483.     ,\n",
              "       484.     , 483.     , 483.     , 484.     , 484.     , 484.     ,\n",
              "       483.     , 483.     , 483.     , 483.     , 484.     , 484.     ,\n",
              "       484.     , 469.52313, 469.31763, 469.08096, 468.82004, 468.3547 ],\n",
              "      dtype=float32)"
            ]
          },
          "metadata": {},
          "execution_count": 38
        }
      ]
    },
    {
      "cell_type": "code",
      "metadata": {
        "colab": {
          "base_uri": "https://localhost:8080/"
        },
        "id": "mgzWmeoPl7LQ",
        "outputId": "5e81629d-2619-412c-d537-1a55f1ad345d"
      },
      "source": [
        "mylstm2.pred_times"
      ],
      "execution_count": 39,
      "outputs": [
        {
          "output_type": "execute_result",
          "data": {
            "text/plain": [
              "DatetimeIndex(['2022-08-08 22:20:00', '2022-08-08 22:25:00',\n",
              "               '2022-08-08 22:30:00', '2022-08-08 22:35:00',\n",
              "               '2022-08-08 22:40:00', '2022-08-08 22:45:00',\n",
              "               '2022-08-08 22:50:00', '2022-08-08 22:55:00',\n",
              "               '2022-08-08 23:00:00', '2022-08-08 23:05:00',\n",
              "               '2022-08-08 23:10:00', '2022-08-08 23:15:00',\n",
              "               '2022-08-08 23:20:00', '2022-08-08 23:25:00',\n",
              "               '2022-08-08 23:30:00', '2022-08-08 23:35:00',\n",
              "               '2022-08-08 23:40:00', '2022-08-08 23:45:00',\n",
              "               '2022-08-08 23:50:00', '2022-08-09 00:00:00',\n",
              "               '2022-08-09 00:10:00', '2022-08-09 00:20:00',\n",
              "               '2022-08-09 00:30:00', '2022-08-09 00:40:00'],\n",
              "              dtype='datetime64[ns]', freq=None)"
            ]
          },
          "metadata": {},
          "execution_count": 39
        }
      ]
    },
    {
      "cell_type": "code",
      "metadata": {
        "id": "GcDPdoZevyht"
      },
      "source": [
        ""
      ],
      "execution_count": null,
      "outputs": []
    },
    {
      "cell_type": "code",
      "source": [
        ""
      ],
      "metadata": {
        "id": "0C2-K2GrljNA"
      },
      "execution_count": null,
      "outputs": []
    },
    {
      "cell_type": "code",
      "source": [
        ""
      ],
      "metadata": {
        "id": "gIgzztP9lEWe"
      },
      "execution_count": null,
      "outputs": []
    },
    {
      "cell_type": "code",
      "source": [
        ""
      ],
      "metadata": {
        "id": "cORPC7uLk7Lp"
      },
      "execution_count": null,
      "outputs": []
    }
  ]
}