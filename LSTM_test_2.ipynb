{
  "nbformat": 4,
  "nbformat_minor": 0,
  "metadata": {
    "colab": {
      "name": "LSTM_test_2.ipynb",
      "provenance": [],
      "collapsed_sections": [],
      "toc_visible": true,
      "authorship_tag": "ABX9TyN6o25mmNe5sfH//VFIDnul",
      "include_colab_link": true
    },
    "kernelspec": {
      "name": "python3",
      "display_name": "Python 3"
    },
    "language_info": {
      "name": "python"
    },
    "gpuClass": "standard"
  },
  "cells": [
    {
      "cell_type": "markdown",
      "metadata": {
        "id": "view-in-github",
        "colab_type": "text"
      },
      "source": [
        "<a href=\"https://colab.research.google.com/github/Jeonwoojae/predict_bitcoin_upbit/blob/main/LSTM_test_2.ipynb\" target=\"_parent\"><img src=\"https://colab.research.google.com/assets/colab-badge.svg\" alt=\"Open In Colab\"/></a>"
      ]
    },
    {
      "cell_type": "code",
      "execution_count": 1,
      "metadata": {
        "colab": {
          "base_uri": "https://localhost:8080/"
        },
        "id": "Y4pj9MwqDUsW",
        "outputId": "59531188-1f7b-4abc-bb06-e7685531bb45"
      },
      "outputs": [
        {
          "output_type": "stream",
          "name": "stdout",
          "text": [
            "Looking in indexes: https://pypi.org/simple, https://us-python.pkg.dev/colab-wheels/public/simple/\n",
            "Collecting pyupbit\n",
            "  Downloading pyupbit-0.2.33-py3-none-any.whl (24 kB)\n",
            "Requirement already satisfied: requests in /usr/local/lib/python3.7/dist-packages (from pyupbit) (2.23.0)\n",
            "Collecting pyjwt>=2.0.0\n",
            "  Downloading PyJWT-2.4.0-py3-none-any.whl (18 kB)\n",
            "Collecting websockets\n",
            "  Downloading websockets-10.3-cp37-cp37m-manylinux_2_5_x86_64.manylinux1_x86_64.manylinux_2_12_x86_64.manylinux2010_x86_64.whl (112 kB)\n",
            "\u001b[K     |████████████████████████████████| 112 kB 11.1 MB/s \n",
            "\u001b[?25hRequirement already satisfied: pandas in /usr/local/lib/python3.7/dist-packages (from pyupbit) (1.3.5)\n",
            "Requirement already satisfied: numpy>=1.17.3 in /usr/local/lib/python3.7/dist-packages (from pandas->pyupbit) (1.21.6)\n",
            "Requirement already satisfied: pytz>=2017.3 in /usr/local/lib/python3.7/dist-packages (from pandas->pyupbit) (2022.1)\n",
            "Requirement already satisfied: python-dateutil>=2.7.3 in /usr/local/lib/python3.7/dist-packages (from pandas->pyupbit) (2.8.2)\n",
            "Requirement already satisfied: six>=1.5 in /usr/local/lib/python3.7/dist-packages (from python-dateutil>=2.7.3->pandas->pyupbit) (1.15.0)\n",
            "Requirement already satisfied: idna<3,>=2.5 in /usr/local/lib/python3.7/dist-packages (from requests->pyupbit) (2.10)\n",
            "Requirement already satisfied: chardet<4,>=3.0.2 in /usr/local/lib/python3.7/dist-packages (from requests->pyupbit) (3.0.4)\n",
            "Requirement already satisfied: certifi>=2017.4.17 in /usr/local/lib/python3.7/dist-packages (from requests->pyupbit) (2022.6.15)\n",
            "Requirement already satisfied: urllib3!=1.25.0,!=1.25.1,<1.26,>=1.21.1 in /usr/local/lib/python3.7/dist-packages (from requests->pyupbit) (1.24.3)\n",
            "Installing collected packages: websockets, pyjwt, pyupbit\n",
            "Successfully installed pyjwt-2.4.0 pyupbit-0.2.33 websockets-10.3\n"
          ]
        }
      ],
      "source": [
        "!pip install pyupbit"
      ]
    },
    {
      "cell_type": "markdown",
      "source": [
        "# dataset 불러오기"
      ],
      "metadata": {
        "id": "pnlndoVTD6ci"
      }
    },
    {
      "cell_type": "code",
      "source": [
        "import pyupbit\n",
        "import time\n",
        "import numpy as np\n",
        "import pandas as pd\n",
        "import tensorflow as tf\n",
        "import matplotlib.pyplot as plt\n",
        "from datetime import datetime, timedelta\n",
        "\n",
        "\n",
        "def Inseart_data_upbit(coin_select, date_select, countofdata):\n",
        "\t#################################################################################\n",
        "    date=None\n",
        "    #res = [pd.DataFrame(columns=['open','high','low', 'close', 'volume', 'value'])]\n",
        "\n",
        "\n",
        "    res = []\n",
        "    count = int(countofdata/200)\n",
        "    for i in range(count):\n",
        "        df = pyupbit.get_ohlcv('KRW-'+coin_select, interval=date_select, count=200, to=date)\n",
        "        df['idCoin'] = coin_select    # 마켓 정보 추가\n",
        "\n",
        "        market_date = df.index\n",
        "        df['dateCoin'] = market_date    # 날짜 정보 추가\n",
        "        # 열 이름은 테이블의 이름과 같아야한다.\n",
        "\n",
        "        df = df[['dateCoin','idCoin', 'open', 'high', 'low', 'close', 'volume', 'value']]     # 데이터 순서 변경\n",
        "        #print(df)\n",
        "        res.append(df)\n",
        "\n",
        "        date = df.index[0]\n",
        "        time.sleep(0.01)\n",
        "\n",
        "    df = pd.concat(res).sort_index()\n",
        "    \n",
        "    #print(type(df))\n",
        "    #print(res)\n",
        "    #print(df)\n",
        "    return df\n",
        "    ###############################################################################\n"
      ],
      "metadata": {
        "id": "Rnak6zMODXu_"
      },
      "execution_count": 2,
      "outputs": []
    },
    {
      "cell_type": "code",
      "source": [
        "# 예측할 코인 ID\n",
        "coinid = 'BTC'\n",
        "\n",
        "# 시작가 or 종료가\n",
        "col = 'close'\n",
        "\n",
        "# 분봉 단위 및 day단위\n",
        "interval = 'minute5'\n",
        "\n",
        "# API를 통해서 가져올 데이터의 수\n",
        "rows = 2000\n",
        "\n",
        "loaded_data = Inseart_data_upbit(coinid, interval,rows)\n",
        "dataset = loaded_data.drop([loaded_data.columns[0], loaded_data.columns[1]], axis=1)\n",
        "times = dataset.index"
      ],
      "metadata": {
        "id": "2QIuhvCjDdq4"
      },
      "execution_count": 3,
      "outputs": []
    },
    {
      "cell_type": "code",
      "source": [
        "dataset"
      ],
      "metadata": {
        "colab": {
          "base_uri": "https://localhost:8080/",
          "height": 641
        },
        "id": "z8vbr2wJD4Q3",
        "outputId": "62aa2691-7a2a-4418-ca2b-88996c93b4e6"
      },
      "execution_count": 4,
      "outputs": [
        {
          "output_type": "execute_result",
          "data": {
            "text/plain": [
              "                           open        high         low       close  \\\n",
              "2022-08-05 23:25:00  30707000.0  30743000.0  30683000.0  30737000.0   \n",
              "2022-08-05 23:30:00  30716000.0  30741000.0  30680000.0  30693000.0   \n",
              "2022-08-05 23:35:00  30694000.0  30743000.0  30680000.0  30736000.0   \n",
              "2022-08-05 23:40:00  30737000.0  30760000.0  30711000.0  30730000.0   \n",
              "2022-08-05 23:45:00  30730000.0  30830000.0  30714000.0  30790000.0   \n",
              "...                         ...         ...         ...         ...   \n",
              "2022-08-09 12:40:00  31604000.0  31609000.0  31601000.0  31606000.0   \n",
              "2022-08-09 12:45:00  31607000.0  31620000.0  31606000.0  31616000.0   \n",
              "2022-08-09 12:50:00  31616000.0  31620000.0  31602000.0  31602000.0   \n",
              "2022-08-09 12:55:00  31602000.0  31613000.0  31592000.0  31612000.0   \n",
              "2022-08-09 13:00:00  31612000.0  31619000.0  31611000.0  31619000.0   \n",
              "\n",
              "                        volume         value  \n",
              "2022-08-05 23:25:00  23.817604  7.314352e+08  \n",
              "2022-08-05 23:30:00  16.420874  5.044122e+08  \n",
              "2022-08-05 23:35:00  11.170298  3.431649e+08  \n",
              "2022-08-05 23:40:00  11.396633  3.503511e+08  \n",
              "2022-08-05 23:45:00  18.851471  5.804914e+08  \n",
              "...                        ...           ...  \n",
              "2022-08-09 12:40:00  11.885199  3.756379e+08  \n",
              "2022-08-09 12:45:00  11.422867  3.611338e+08  \n",
              "2022-08-09 12:50:00  17.239907  5.450391e+08  \n",
              "2022-08-09 12:55:00   7.783936  2.459948e+08  \n",
              "2022-08-09 13:00:00   2.338977  7.394111e+07  \n",
              "\n",
              "[2000 rows x 6 columns]"
            ],
            "text/html": [
              "\n",
              "  <div id=\"df-cf0e9a91-cebe-4503-94f2-2c622546b613\">\n",
              "    <div class=\"colab-df-container\">\n",
              "      <div>\n",
              "<style scoped>\n",
              "    .dataframe tbody tr th:only-of-type {\n",
              "        vertical-align: middle;\n",
              "    }\n",
              "\n",
              "    .dataframe tbody tr th {\n",
              "        vertical-align: top;\n",
              "    }\n",
              "\n",
              "    .dataframe thead th {\n",
              "        text-align: right;\n",
              "    }\n",
              "</style>\n",
              "<table border=\"1\" class=\"dataframe\">\n",
              "  <thead>\n",
              "    <tr style=\"text-align: right;\">\n",
              "      <th></th>\n",
              "      <th>open</th>\n",
              "      <th>high</th>\n",
              "      <th>low</th>\n",
              "      <th>close</th>\n",
              "      <th>volume</th>\n",
              "      <th>value</th>\n",
              "    </tr>\n",
              "  </thead>\n",
              "  <tbody>\n",
              "    <tr>\n",
              "      <th>2022-08-05 23:25:00</th>\n",
              "      <td>30707000.0</td>\n",
              "      <td>30743000.0</td>\n",
              "      <td>30683000.0</td>\n",
              "      <td>30737000.0</td>\n",
              "      <td>23.817604</td>\n",
              "      <td>7.314352e+08</td>\n",
              "    </tr>\n",
              "    <tr>\n",
              "      <th>2022-08-05 23:30:00</th>\n",
              "      <td>30716000.0</td>\n",
              "      <td>30741000.0</td>\n",
              "      <td>30680000.0</td>\n",
              "      <td>30693000.0</td>\n",
              "      <td>16.420874</td>\n",
              "      <td>5.044122e+08</td>\n",
              "    </tr>\n",
              "    <tr>\n",
              "      <th>2022-08-05 23:35:00</th>\n",
              "      <td>30694000.0</td>\n",
              "      <td>30743000.0</td>\n",
              "      <td>30680000.0</td>\n",
              "      <td>30736000.0</td>\n",
              "      <td>11.170298</td>\n",
              "      <td>3.431649e+08</td>\n",
              "    </tr>\n",
              "    <tr>\n",
              "      <th>2022-08-05 23:40:00</th>\n",
              "      <td>30737000.0</td>\n",
              "      <td>30760000.0</td>\n",
              "      <td>30711000.0</td>\n",
              "      <td>30730000.0</td>\n",
              "      <td>11.396633</td>\n",
              "      <td>3.503511e+08</td>\n",
              "    </tr>\n",
              "    <tr>\n",
              "      <th>2022-08-05 23:45:00</th>\n",
              "      <td>30730000.0</td>\n",
              "      <td>30830000.0</td>\n",
              "      <td>30714000.0</td>\n",
              "      <td>30790000.0</td>\n",
              "      <td>18.851471</td>\n",
              "      <td>5.804914e+08</td>\n",
              "    </tr>\n",
              "    <tr>\n",
              "      <th>...</th>\n",
              "      <td>...</td>\n",
              "      <td>...</td>\n",
              "      <td>...</td>\n",
              "      <td>...</td>\n",
              "      <td>...</td>\n",
              "      <td>...</td>\n",
              "    </tr>\n",
              "    <tr>\n",
              "      <th>2022-08-09 12:40:00</th>\n",
              "      <td>31604000.0</td>\n",
              "      <td>31609000.0</td>\n",
              "      <td>31601000.0</td>\n",
              "      <td>31606000.0</td>\n",
              "      <td>11.885199</td>\n",
              "      <td>3.756379e+08</td>\n",
              "    </tr>\n",
              "    <tr>\n",
              "      <th>2022-08-09 12:45:00</th>\n",
              "      <td>31607000.0</td>\n",
              "      <td>31620000.0</td>\n",
              "      <td>31606000.0</td>\n",
              "      <td>31616000.0</td>\n",
              "      <td>11.422867</td>\n",
              "      <td>3.611338e+08</td>\n",
              "    </tr>\n",
              "    <tr>\n",
              "      <th>2022-08-09 12:50:00</th>\n",
              "      <td>31616000.0</td>\n",
              "      <td>31620000.0</td>\n",
              "      <td>31602000.0</td>\n",
              "      <td>31602000.0</td>\n",
              "      <td>17.239907</td>\n",
              "      <td>5.450391e+08</td>\n",
              "    </tr>\n",
              "    <tr>\n",
              "      <th>2022-08-09 12:55:00</th>\n",
              "      <td>31602000.0</td>\n",
              "      <td>31613000.0</td>\n",
              "      <td>31592000.0</td>\n",
              "      <td>31612000.0</td>\n",
              "      <td>7.783936</td>\n",
              "      <td>2.459948e+08</td>\n",
              "    </tr>\n",
              "    <tr>\n",
              "      <th>2022-08-09 13:00:00</th>\n",
              "      <td>31612000.0</td>\n",
              "      <td>31619000.0</td>\n",
              "      <td>31611000.0</td>\n",
              "      <td>31619000.0</td>\n",
              "      <td>2.338977</td>\n",
              "      <td>7.394111e+07</td>\n",
              "    </tr>\n",
              "  </tbody>\n",
              "</table>\n",
              "<p>2000 rows × 6 columns</p>\n",
              "</div>\n",
              "      <button class=\"colab-df-convert\" onclick=\"convertToInteractive('df-cf0e9a91-cebe-4503-94f2-2c622546b613')\"\n",
              "              title=\"Convert this dataframe to an interactive table.\"\n",
              "              style=\"display:none;\">\n",
              "        \n",
              "  <svg xmlns=\"http://www.w3.org/2000/svg\" height=\"24px\"viewBox=\"0 0 24 24\"\n",
              "       width=\"24px\">\n",
              "    <path d=\"M0 0h24v24H0V0z\" fill=\"none\"/>\n",
              "    <path d=\"M18.56 5.44l.94 2.06.94-2.06 2.06-.94-2.06-.94-.94-2.06-.94 2.06-2.06.94zm-11 1L8.5 8.5l.94-2.06 2.06-.94-2.06-.94L8.5 2.5l-.94 2.06-2.06.94zm10 10l.94 2.06.94-2.06 2.06-.94-2.06-.94-.94-2.06-.94 2.06-2.06.94z\"/><path d=\"M17.41 7.96l-1.37-1.37c-.4-.4-.92-.59-1.43-.59-.52 0-1.04.2-1.43.59L10.3 9.45l-7.72 7.72c-.78.78-.78 2.05 0 2.83L4 21.41c.39.39.9.59 1.41.59.51 0 1.02-.2 1.41-.59l7.78-7.78 2.81-2.81c.8-.78.8-2.07 0-2.86zM5.41 20L4 18.59l7.72-7.72 1.47 1.35L5.41 20z\"/>\n",
              "  </svg>\n",
              "      </button>\n",
              "      \n",
              "  <style>\n",
              "    .colab-df-container {\n",
              "      display:flex;\n",
              "      flex-wrap:wrap;\n",
              "      gap: 12px;\n",
              "    }\n",
              "\n",
              "    .colab-df-convert {\n",
              "      background-color: #E8F0FE;\n",
              "      border: none;\n",
              "      border-radius: 50%;\n",
              "      cursor: pointer;\n",
              "      display: none;\n",
              "      fill: #1967D2;\n",
              "      height: 32px;\n",
              "      padding: 0 0 0 0;\n",
              "      width: 32px;\n",
              "    }\n",
              "\n",
              "    .colab-df-convert:hover {\n",
              "      background-color: #E2EBFA;\n",
              "      box-shadow: 0px 1px 2px rgba(60, 64, 67, 0.3), 0px 1px 3px 1px rgba(60, 64, 67, 0.15);\n",
              "      fill: #174EA6;\n",
              "    }\n",
              "\n",
              "    [theme=dark] .colab-df-convert {\n",
              "      background-color: #3B4455;\n",
              "      fill: #D2E3FC;\n",
              "    }\n",
              "\n",
              "    [theme=dark] .colab-df-convert:hover {\n",
              "      background-color: #434B5C;\n",
              "      box-shadow: 0px 1px 3px 1px rgba(0, 0, 0, 0.15);\n",
              "      filter: drop-shadow(0px 1px 2px rgba(0, 0, 0, 0.3));\n",
              "      fill: #FFFFFF;\n",
              "    }\n",
              "  </style>\n",
              "\n",
              "      <script>\n",
              "        const buttonEl =\n",
              "          document.querySelector('#df-cf0e9a91-cebe-4503-94f2-2c622546b613 button.colab-df-convert');\n",
              "        buttonEl.style.display =\n",
              "          google.colab.kernel.accessAllowed ? 'block' : 'none';\n",
              "\n",
              "        async function convertToInteractive(key) {\n",
              "          const element = document.querySelector('#df-cf0e9a91-cebe-4503-94f2-2c622546b613');\n",
              "          const dataTable =\n",
              "            await google.colab.kernel.invokeFunction('convertToInteractive',\n",
              "                                                     [key], {});\n",
              "          if (!dataTable) return;\n",
              "\n",
              "          const docLinkHtml = 'Like what you see? Visit the ' +\n",
              "            '<a target=\"_blank\" href=https://colab.research.google.com/notebooks/data_table.ipynb>data table notebook</a>'\n",
              "            + ' to learn more about interactive tables.';\n",
              "          element.innerHTML = '';\n",
              "          dataTable['output_type'] = 'display_data';\n",
              "          await google.colab.output.renderOutput(dataTable, element);\n",
              "          const docLink = document.createElement('div');\n",
              "          docLink.innerHTML = docLinkHtml;\n",
              "          element.appendChild(docLink);\n",
              "        }\n",
              "      </script>\n",
              "    </div>\n",
              "  </div>\n",
              "  "
            ]
          },
          "metadata": {},
          "execution_count": 4
        }
      ]
    },
    {
      "cell_type": "code",
      "source": [
        "times"
      ],
      "metadata": {
        "colab": {
          "base_uri": "https://localhost:8080/"
        },
        "id": "V4pnHEofD9ph",
        "outputId": "0c89ec15-0e18-4999-d697-7b9b0b5e6d22"
      },
      "execution_count": 5,
      "outputs": [
        {
          "output_type": "execute_result",
          "data": {
            "text/plain": [
              "DatetimeIndex(['2022-08-05 23:25:00', '2022-08-05 23:30:00',\n",
              "               '2022-08-05 23:35:00', '2022-08-05 23:40:00',\n",
              "               '2022-08-05 23:45:00', '2022-08-05 23:50:00',\n",
              "               '2022-08-05 23:55:00', '2022-08-06 00:00:00',\n",
              "               '2022-08-06 00:05:00', '2022-08-06 00:10:00',\n",
              "               ...\n",
              "               '2022-08-09 12:15:00', '2022-08-09 12:20:00',\n",
              "               '2022-08-09 12:25:00', '2022-08-09 12:30:00',\n",
              "               '2022-08-09 12:35:00', '2022-08-09 12:40:00',\n",
              "               '2022-08-09 12:45:00', '2022-08-09 12:50:00',\n",
              "               '2022-08-09 12:55:00', '2022-08-09 13:00:00'],\n",
              "              dtype='datetime64[ns]', length=2000, freq=None)"
            ]
          },
          "metadata": {},
          "execution_count": 5
        }
      ]
    },
    {
      "cell_type": "code",
      "source": [
        "## 시각화\n",
        "\n",
        "plt.figure(figsize=(16, 9))\n",
        "# plot_data = dataset[['open','close']]\n",
        "plt.plot(dataset.index,dataset['close'])\n",
        "plt.xlabel('time')\n",
        "plt.ylabel('price')"
      ],
      "metadata": {
        "colab": {
          "base_uri": "https://localhost:8080/",
          "height": 396
        },
        "id": "fPotkZRfEPjW",
        "outputId": "87e0c52a-5d5f-4150-d1fb-7bd4d2cb0f0f"
      },
      "execution_count": 12,
      "outputs": [
        {
          "output_type": "execute_result",
          "data": {
            "text/plain": [
              "Text(0, 0.5, 'price')"
            ]
          },
          "metadata": {},
          "execution_count": 12
        },
        {
          "output_type": "display_data",
          "data": {
            "text/plain": [
              "<Figure size 1152x648 with 1 Axes>"
            ],
            "image/png": "[encoded data removed]"
          },
          "metadata": {
            "needs_background": "light"
          }
        }
      ]
    },
    {
      "cell_type": "code",
      "source": [
        "## 전처리\n",
        "from sklearn.preprocessing import MinMaxScaler\n",
        "\n",
        "scaler = MinMaxScaler()\n",
        "# 스케일을 적용할 column을 정의합니다.\n",
        "scale_cols = ['open', 'high', 'low', 'close', 'volume', 'value']\n",
        "# 스케일 후 columns\n",
        "scaled = scaler.fit_transform(dataset[scale_cols])\n",
        "scaled"
      ],
      "metadata": {
        "colab": {
          "base_uri": "https://localhost:8080/"
        },
        "id": "S3eKdvid3wj0",
        "outputId": "62549540-7a9f-47a5-c680-2244317af9cc"
      },
      "execution_count": 16,
      "outputs": [
        {
          "output_type": "execute_result",
          "data": {
            "text/plain": [
              "array([[0.20374081, 0.20830543, 0.20507682, 0.22429907, 0.20235392,\n",
              "        0.19843754],\n",
              "       [0.20975284, 0.20696584, 0.20307281, 0.19492657, 0.13915064,\n",
              "        0.1364923 ],\n",
              "       [0.19505678, 0.20830543, 0.20307281, 0.22363151, 0.09428573,\n",
              "        0.09249456],\n",
              "       ...,\n",
              "       [0.81095524, 0.79571333, 0.81897128, 0.80173565, 0.14614908,\n",
              "        0.14757772],\n",
              "       [0.80160321, 0.79102478, 0.81229125, 0.80841121, 0.06535008,\n",
              "        0.06598085],\n",
              "       [0.80828323, 0.79504354, 0.8249833 , 0.81308411, 0.01882421,\n",
              "        0.01903449]])"
            ]
          },
          "metadata": {},
          "execution_count": 16
        }
      ]
    },
    {
      "cell_type": "code",
      "source": [
        "## 새로운 데이터셋\n",
        "scaled_df = pd.DataFrame(scaled, columns=scale_cols)"
      ],
      "metadata": {
        "id": "VcEEAPCv4ddF"
      },
      "execution_count": 18,
      "outputs": []
    },
    {
      "cell_type": "code",
      "source": [
        ""
      ],
      "metadata": {
        "id": "_V-YkJVn4sAq"
      },
      "execution_count": null,
      "outputs": []
    },
    {
      "cell_type": "markdown",
      "source": [
        "# train / test 나누기"
      ],
      "metadata": {
        "id": "xhrO1ePN5C2F"
      }
    },
    {
      "cell_type": "code",
      "source": [
        "from sklearn.model_selection import train_test_split\n",
        "\n",
        "x_train, x_test, y_train, y_test = train_test_split(scaled_df.drop('close', 1), scaled_df['close'], test_size=0.2, random_state=0, shuffle=False)"
      ],
      "metadata": {
        "colab": {
          "base_uri": "https://localhost:8080/"
        },
        "id": "xiXFr6yn5Gvu",
        "outputId": "140e580f-c23b-43f6-d6a5-dedc38d84525"
      },
      "execution_count": 21,
      "outputs": [
        {
          "output_type": "stream",
          "name": "stderr",
          "text": [
            "/usr/local/lib/python3.7/dist-packages/ipykernel_launcher.py:3: FutureWarning: In a future version of pandas all arguments of DataFrame.drop except for the argument 'labels' will be keyword-only\n",
            "  This is separate from the ipykernel package so we can avoid doing imports until\n"
          ]
        }
      ]
    },
    {
      "cell_type": "code",
      "source": [
        "x_train.shape, y_train.shape"
      ],
      "metadata": {
        "colab": {
          "base_uri": "https://localhost:8080/"
        },
        "id": "4LaWBm9l5KUQ",
        "outputId": "2bda0757-8897-4d7c-c3bd-006867efb9d4"
      },
      "execution_count": 22,
      "outputs": [
        {
          "output_type": "execute_result",
          "data": {
            "text/plain": [
              "((1600, 5), (1600,))"
            ]
          },
          "metadata": {},
          "execution_count": 22
        }
      ]
    },
    {
      "cell_type": "code",
      "source": [
        "x_test.shape, y_test.shape"
      ],
      "metadata": {
        "colab": {
          "base_uri": "https://localhost:8080/"
        },
        "id": "h8LtFaUu5a3Q",
        "outputId": "404dfada-573a-4b44-f170-0b0df3fd9a70"
      },
      "execution_count": 23,
      "outputs": [
        {
          "output_type": "execute_result",
          "data": {
            "text/plain": [
              "((400, 5), (400,))"
            ]
          },
          "metadata": {},
          "execution_count": 23
        }
      ]
    },
    {
      "cell_type": "code",
      "source": [
        "x_train"
      ],
      "metadata": {
        "colab": {
          "base_uri": "https://localhost:8080/",
          "height": 424
        },
        "id": "VNRdhTdU5cQ8",
        "outputId": "d1f0c390-ca8d-4093-f3ab-e5ca73a00383"
      },
      "execution_count": 24,
      "outputs": [
        {
          "output_type": "execute_result",
          "data": {
            "text/plain": [
              "          open      high       low    volume     value\n",
              "0     0.203741  0.208305  0.205077  0.202354  0.198438\n",
              "1     0.209753  0.206966  0.203073  0.139151  0.136492\n",
              "2     0.195057  0.208305  0.203073  0.094286  0.092495\n",
              "3     0.223781  0.219692  0.223781  0.096220  0.094455\n",
              "4     0.219105  0.266577  0.225785  0.159920  0.157251\n",
              "...        ...       ...       ...       ...       ...\n",
              "1595  0.676687  0.669792  0.690047  0.162208  0.162763\n",
              "1596  0.686707  0.695244  0.696727  0.207416  0.208310\n",
              "1597  0.686707  0.695244  0.696727  0.207416  0.208310\n",
              "1598  0.693387  0.675820  0.665999  0.193366  0.193931\n",
              "1599  0.693387  0.675820  0.665999  0.193366  0.193931\n",
              "\n",
              "[1600 rows x 5 columns]"
            ],
            "text/html": [
              "\n",
              "  <div id=\"df-7c46ddb3-fe89-4a3f-9341-e08d6ec0ace0\">\n",
              "    <div class=\"colab-df-container\">\n",
              "      <div>\n",
              "<style scoped>\n",
              "    .dataframe tbody tr th:only-of-type {\n",
              "        vertical-align: middle;\n",
              "    }\n",
              "\n",
              "    .dataframe tbody tr th {\n",
              "        vertical-align: top;\n",
              "    }\n",
              "\n",
              "    .dataframe thead th {\n",
              "        text-align: right;\n",
              "    }\n",
              "</style>\n",
              "<table border=\"1\" class=\"dataframe\">\n",
              "  <thead>\n",
              "    <tr style=\"text-align: right;\">\n",
              "      <th></th>\n",
              "      <th>open</th>\n",
              "      <th>high</th>\n",
              "      <th>low</th>\n",
              "      <th>volume</th>\n",
              "      <th>value</th>\n",
              "    </tr>\n",
              "  </thead>\n",
              "  <tbody>\n",
              "    <tr>\n",
              "      <th>0</th>\n",
              "      <td>0.203741</td>\n",
              "      <td>0.208305</td>\n",
              "      <td>0.205077</td>\n",
              "      <td>0.202354</td>\n",
              "      <td>0.198438</td>\n",
              "    </tr>\n",
              "    <tr>\n",
              "      <th>1</th>\n",
              "      <td>0.209753</td>\n",
              "      <td>0.206966</td>\n",
              "      <td>0.203073</td>\n",
              "      <td>0.139151</td>\n",
              "      <td>0.136492</td>\n",
              "    </tr>\n",
              "    <tr>\n",
              "      <th>2</th>\n",
              "      <td>0.195057</td>\n",
              "      <td>0.208305</td>\n",
              "      <td>0.203073</td>\n",
              "      <td>0.094286</td>\n",
              "      <td>0.092495</td>\n",
              "    </tr>\n",
              "    <tr>\n",
              "      <th>3</th>\n",
              "      <td>0.223781</td>\n",
              "      <td>0.219692</td>\n",
              "      <td>0.223781</td>\n",
              "      <td>0.096220</td>\n",
              "      <td>0.094455</td>\n",
              "    </tr>\n",
              "    <tr>\n",
              "      <th>4</th>\n",
              "      <td>0.219105</td>\n",
              "      <td>0.266577</td>\n",
              "      <td>0.225785</td>\n",
              "      <td>0.159920</td>\n",
              "      <td>0.157251</td>\n",
              "    </tr>\n",
              "    <tr>\n",
              "      <th>...</th>\n",
              "      <td>...</td>\n",
              "      <td>...</td>\n",
              "      <td>...</td>\n",
              "      <td>...</td>\n",
              "      <td>...</td>\n",
              "    </tr>\n",
              "    <tr>\n",
              "      <th>1595</th>\n",
              "      <td>0.676687</td>\n",
              "      <td>0.669792</td>\n",
              "      <td>0.690047</td>\n",
              "      <td>0.162208</td>\n",
              "      <td>0.162763</td>\n",
              "    </tr>\n",
              "    <tr>\n",
              "      <th>1596</th>\n",
              "      <td>0.686707</td>\n",
              "      <td>0.695244</td>\n",
              "      <td>0.696727</td>\n",
              "      <td>0.207416</td>\n",
              "      <td>0.208310</td>\n",
              "    </tr>\n",
              "    <tr>\n",
              "      <th>1597</th>\n",
              "      <td>0.686707</td>\n",
              "      <td>0.695244</td>\n",
              "      <td>0.696727</td>\n",
              "      <td>0.207416</td>\n",
              "      <td>0.208310</td>\n",
              "    </tr>\n",
              "    <tr>\n",
              "      <th>1598</th>\n",
              "      <td>0.693387</td>\n",
              "      <td>0.675820</td>\n",
              "      <td>0.665999</td>\n",
              "      <td>0.193366</td>\n",
              "      <td>0.193931</td>\n",
              "    </tr>\n",
              "    <tr>\n",
              "      <th>1599</th>\n",
              "      <td>0.693387</td>\n",
              "      <td>0.675820</td>\n",
              "      <td>0.665999</td>\n",
              "      <td>0.193366</td>\n",
              "      <td>0.193931</td>\n",
              "    </tr>\n",
              "  </tbody>\n",
              "</table>\n",
              "<p>1600 rows × 5 columns</p>\n",
              "</div>\n",
              "      <button class=\"colab-df-convert\" onclick=\"convertToInteractive('df-7c46ddb3-fe89-4a3f-9341-e08d6ec0ace0')\"\n",
              "              title=\"Convert this dataframe to an interactive table.\"\n",
              "              style=\"display:none;\">\n",
              "        \n",
              "  <svg xmlns=\"http://www.w3.org/2000/svg\" height=\"24px\"viewBox=\"0 0 24 24\"\n",
              "       width=\"24px\">\n",
              "    <path d=\"M0 0h24v24H0V0z\" fill=\"none\"/>\n",
              "    <path d=\"M18.56 5.44l.94 2.06.94-2.06 2.06-.94-2.06-.94-.94-2.06-.94 2.06-2.06.94zm-11 1L8.5 8.5l.94-2.06 2.06-.94-2.06-.94L8.5 2.5l-.94 2.06-2.06.94zm10 10l.94 2.06.94-2.06 2.06-.94-2.06-.94-.94-2.06-.94 2.06-2.06.94z\"/><path d=\"M17.41 7.96l-1.37-1.37c-.4-.4-.92-.59-1.43-.59-.52 0-1.04.2-1.43.59L10.3 9.45l-7.72 7.72c-.78.78-.78 2.05 0 2.83L4 21.41c.39.39.9.59 1.41.59.51 0 1.02-.2 1.41-.59l7.78-7.78 2.81-2.81c.8-.78.8-2.07 0-2.86zM5.41 20L4 18.59l7.72-7.72 1.47 1.35L5.41 20z\"/>\n",
              "  </svg>\n",
              "      </button>\n",
              "      \n",
              "  <style>\n",
              "    .colab-df-container {\n",
              "      display:flex;\n",
              "      flex-wrap:wrap;\n",
              "      gap: 12px;\n",
              "    }\n",
              "\n",
              "    .colab-df-convert {\n",
              "      background-color: #E8F0FE;\n",
              "      border: none;\n",
              "      border-radius: 50%;\n",
              "      cursor: pointer;\n",
              "      display: none;\n",
              "      fill: #1967D2;\n",
              "      height: 32px;\n",
              "      padding: 0 0 0 0;\n",
              "      width: 32px;\n",
              "    }\n",
              "\n",
              "    .colab-df-convert:hover {\n",
              "      background-color: #E2EBFA;\n",
              "      box-shadow: 0px 1px 2px rgba(60, 64, 67, 0.3), 0px 1px 3px 1px rgba(60, 64, 67, 0.15);\n",
              "      fill: #174EA6;\n",
              "    }\n",
              "\n",
              "    [theme=dark] .colab-df-convert {\n",
              "      background-color: #3B4455;\n",
              "      fill: #D2E3FC;\n",
              "    }\n",
              "\n",
              "    [theme=dark] .colab-df-convert:hover {\n",
              "      background-color: #434B5C;\n",
              "      box-shadow: 0px 1px 3px 1px rgba(0, 0, 0, 0.15);\n",
              "      filter: drop-shadow(0px 1px 2px rgba(0, 0, 0, 0.3));\n",
              "      fill: #FFFFFF;\n",
              "    }\n",
              "  </style>\n",
              "\n",
              "      <script>\n",
              "        const buttonEl =\n",
              "          document.querySelector('#df-7c46ddb3-fe89-4a3f-9341-e08d6ec0ace0 button.colab-df-convert');\n",
              "        buttonEl.style.display =\n",
              "          google.colab.kernel.accessAllowed ? 'block' : 'none';\n",
              "\n",
              "        async function convertToInteractive(key) {\n",
              "          const element = document.querySelector('#df-7c46ddb3-fe89-4a3f-9341-e08d6ec0ace0');\n",
              "          const dataTable =\n",
              "            await google.colab.kernel.invokeFunction('convertToInteractive',\n",
              "                                                     [key], {});\n",
              "          if (!dataTable) return;\n",
              "\n",
              "          const docLinkHtml = 'Like what you see? Visit the ' +\n",
              "            '<a target=\"_blank\" href=https://colab.research.google.com/notebooks/data_table.ipynb>data table notebook</a>'\n",
              "            + ' to learn more about interactive tables.';\n",
              "          element.innerHTML = '';\n",
              "          dataTable['output_type'] = 'display_data';\n",
              "          await google.colab.output.renderOutput(dataTable, element);\n",
              "          const docLink = document.createElement('div');\n",
              "          docLink.innerHTML = docLinkHtml;\n",
              "          element.appendChild(docLink);\n",
              "        }\n",
              "      </script>\n",
              "    </div>\n",
              "  </div>\n",
              "  "
            ]
          },
          "metadata": {},
          "execution_count": 24
        }
      ]
    },
    {
      "cell_type": "code",
      "source": [
        ""
      ],
      "metadata": {
        "id": "UbyVM-3P5eRp"
      },
      "execution_count": null,
      "outputs": []
    },
    {
      "cell_type": "markdown",
      "source": [
        "# TensorFlow Dataset을 사용하여 시퀀스 데이터셋 구성하기"
      ],
      "metadata": {
        "id": "qZCf5omq5kXf"
      }
    },
    {
      "cell_type": "code",
      "source": [
        "import tensorflow as tf\n",
        "\n",
        "def windowed_dataset(series, window_size, batch_size, shuffle):\n",
        "    series = tf.expand_dims(series, axis=-1)\n",
        "    ds = tf.data.Dataset.from_tensor_slices(series)\n",
        "    ds = ds.window(window_size + 1, shift=1, drop_remainder=True)\n",
        "    ds = ds.flat_map(lambda w: w.batch(window_size + 1))\n",
        "    if shuffle:\n",
        "        ds = ds.shuffle(1000)\n",
        "    ds = ds.map(lambda w: (w[:-1], w[-1]))\n",
        "    return ds.batch(batch_size).prefetch(1)"
      ],
      "metadata": {
        "id": "5v2ViY_n5sND"
      },
      "execution_count": 25,
      "outputs": []
    },
    {
      "cell_type": "code",
      "source": [
        "# 하이퍼파라미터 정하기\n",
        "WINDOW_SIZE=20\n",
        "BATCH_SIZE=32"
      ],
      "metadata": {
        "id": "KEFOtLE45usY"
      },
      "execution_count": 26,
      "outputs": []
    },
    {
      "cell_type": "code",
      "source": [
        "# trian_data는 학습용 데이터셋, test_data는 검증용 데이터셋\n",
        "train_data = windowed_dataset(y_train, WINDOW_SIZE, BATCH_SIZE, True)\n",
        "test_data = windowed_dataset(y_test, WINDOW_SIZE, BATCH_SIZE, False)"
      ],
      "metadata": {
        "id": "YE12Nc5z5yWC"
      },
      "execution_count": 27,
      "outputs": []
    },
    {
      "cell_type": "code",
      "source": [
        "# 아래의 코드로 데이터셋의 구성을 확인해 볼 수 있습니다.\n",
        "# X: (batch_size, window_size, feature)\n",
        "# Y: (batch_size, feature)\n",
        "for data in train_data.take(1):\n",
        "    print(f'데이터셋(X) 구성(batch_size, window_size, feature갯수): {data[0].shape}')\n",
        "    print(f'데이터셋(Y) 구성(batch_size, window_size, feature갯수): {data[1].shape}')"
      ],
      "metadata": {
        "colab": {
          "base_uri": "https://localhost:8080/"
        },
        "id": "0ANeGK9g500K",
        "outputId": "8b0e7e84-b9d5-4859-cb49-2738305d1ed2"
      },
      "execution_count": 28,
      "outputs": [
        {
          "output_type": "stream",
          "name": "stdout",
          "text": [
            "데이터셋(X) 구성(batch_size, window_size, feature갯수): (32, 20, 1)\n",
            "데이터셋(Y) 구성(batch_size, window_size, feature갯수): (32, 1)\n"
          ]
        }
      ]
    },
    {
      "cell_type": "code",
      "source": [
        ""
      ],
      "metadata": {
        "id": "_oamxwKZ55O7"
      },
      "execution_count": null,
      "outputs": []
    },
    {
      "cell_type": "markdown",
      "source": [
        "# 모델"
      ],
      "metadata": {
        "id": "P1__qsnf58sS"
      }
    },
    {
      "cell_type": "code",
      "source": [
        "from tensorflow.keras.models import Sequential\n",
        "from tensorflow.keras.layers import Dense, LSTM, Conv1D, Lambda\n",
        "from tensorflow.keras.losses import Huber\n",
        "from tensorflow.keras.optimizers import Adam\n",
        "from tensorflow.keras.callbacks import EarlyStopping, ModelCheckpoint\n",
        "import os\n",
        "import warnings\n",
        "\n",
        "\n",
        "model = Sequential([\n",
        "    # 1차원 feature map 생성\n",
        "    Conv1D(filters=32, kernel_size=5,\n",
        "           padding=\"causal\",\n",
        "           activation=\"relu\",\n",
        "           input_shape=[WINDOW_SIZE, 1]),\n",
        "    # LSTM\n",
        "    LSTM(16, activation='tanh'),\n",
        "    Dense(16, activation=\"relu\"),\n",
        "    Dense(1),\n",
        "])"
      ],
      "metadata": {
        "id": "mCTeJEUm5-RH"
      },
      "execution_count": 41,
      "outputs": []
    },
    {
      "cell_type": "code",
      "source": [
        "# Sequence 학습에 비교적 좋은 퍼포먼스를 내는 Huber()를 사용합니다.\n",
        "loss = Huber()\n",
        "optimizer = Adam(0.0005)\n",
        "model.compile(loss=Huber(), optimizer=optimizer, metrics=['mse'])"
      ],
      "metadata": {
        "id": "HbYoDUEZ5_dg"
      },
      "execution_count": 35,
      "outputs": []
    },
    {
      "cell_type": "code",
      "source": [
        "# earlystopping은 10번 epoch통안 val_loss 개선이 없다면 학습을 멈춥니다.\n",
        "earlystopping = EarlyStopping(monitor='val_loss', patience=10)\n",
        "# val_loss 기준 체크포인터도 생성합니다.\n",
        "filename = os.path.join('tmp', 'ckeckpointer.ckpt')\n",
        "checkpoint = ModelCheckpoint(filename, \n",
        "                             save_weights_only=True, \n",
        "                             save_best_only=True, \n",
        "                             monitor='val_loss', \n",
        "                             verbose=1)"
      ],
      "metadata": {
        "id": "u-Wm_m8d6Cfo"
      },
      "execution_count": 33,
      "outputs": []
    },
    {
      "cell_type": "code",
      "source": [
        "history = model.fit(train_data, \n",
        "                    validation_data=(test_data), \n",
        "                    epochs=50, \n",
        "                    callbacks=[checkpoint, earlystopping])"
      ],
      "metadata": {
        "colab": {
          "base_uri": "https://localhost:8080/"
        },
        "id": "-ZYuUvHH6D42",
        "outputId": "8628673a-5719-4556-ca9e-dbf265a3ab33"
      },
      "execution_count": 36,
      "outputs": [
        {
          "output_type": "stream",
          "name": "stdout",
          "text": [
            "Epoch 1/50\n",
            "     46/Unknown - 3s 12ms/step - loss: 0.0089 - mse: 0.0178\n",
            "Epoch 1: val_loss improved from inf to 0.04277, saving model to tmp/ckeckpointer.ckpt\n",
            "50/50 [==============================] - 4s 27ms/step - loss: 0.0084 - mse: 0.0169 - val_loss: 0.0428 - val_mse: 0.0855\n",
            "Epoch 2/50\n",
            "48/50 [===========================>..] - ETA: 0s - loss: 0.0011 - mse: 0.0023\n",
            "Epoch 2: val_loss improved from 0.04277 to 0.01732, saving model to tmp/ckeckpointer.ckpt\n",
            "50/50 [==============================] - 1s 15ms/step - loss: 0.0011 - mse: 0.0023 - val_loss: 0.0173 - val_mse: 0.0346\n",
            "Epoch 3/50\n",
            "49/50 [============================>.] - ETA: 0s - loss: 4.2847e-04 - mse: 8.5694e-04\n",
            "Epoch 3: val_loss improved from 0.01732 to 0.00258, saving model to tmp/ckeckpointer.ckpt\n",
            "50/50 [==============================] - 1s 13ms/step - loss: 4.2656e-04 - mse: 8.5313e-04 - val_loss: 0.0026 - val_mse: 0.0052\n",
            "Epoch 4/50\n",
            "50/50 [==============================] - ETA: 0s - loss: 2.4242e-04 - mse: 4.8484e-04\n",
            "Epoch 4: val_loss improved from 0.00258 to 0.00111, saving model to tmp/ckeckpointer.ckpt\n",
            "50/50 [==============================] - 1s 15ms/step - loss: 2.4242e-04 - mse: 4.8484e-04 - val_loss: 0.0011 - val_mse: 0.0022\n",
            "Epoch 5/50\n",
            "45/50 [==========================>...] - ETA: 0s - loss: 2.2747e-04 - mse: 4.5494e-04\n",
            "Epoch 5: val_loss did not improve from 0.00111\n",
            "50/50 [==============================] - 1s 12ms/step - loss: 2.2432e-04 - mse: 4.4865e-04 - val_loss: 0.0014 - val_mse: 0.0028\n",
            "Epoch 6/50\n",
            "46/50 [==========================>...] - ETA: 0s - loss: 2.0766e-04 - mse: 4.1532e-04\n",
            "Epoch 6: val_loss did not improve from 0.00111\n",
            "50/50 [==============================] - 1s 15ms/step - loss: 2.1422e-04 - mse: 4.2843e-04 - val_loss: 0.0015 - val_mse: 0.0030\n",
            "Epoch 7/50\n",
            "46/50 [==========================>...] - ETA: 0s - loss: 2.1230e-04 - mse: 4.2459e-04\n",
            "Epoch 7: val_loss did not improve from 0.00111\n",
            "50/50 [==============================] - 1s 16ms/step - loss: 2.0931e-04 - mse: 4.1863e-04 - val_loss: 0.0016 - val_mse: 0.0032\n",
            "Epoch 8/50\n",
            "45/50 [==========================>...] - ETA: 0s - loss: 2.0008e-04 - mse: 4.0016e-04\n",
            "Epoch 8: val_loss did not improve from 0.00111\n",
            "50/50 [==============================] - 1s 13ms/step - loss: 2.1044e-04 - mse: 4.2089e-04 - val_loss: 0.0015 - val_mse: 0.0029\n",
            "Epoch 9/50\n",
            "46/50 [==========================>...] - ETA: 0s - loss: 2.0399e-04 - mse: 4.0799e-04\n",
            "Epoch 9: val_loss did not improve from 0.00111\n",
            "50/50 [==============================] - 1s 16ms/step - loss: 2.0251e-04 - mse: 4.0502e-04 - val_loss: 0.0017 - val_mse: 0.0034\n",
            "Epoch 10/50\n",
            "50/50 [==============================] - ETA: 0s - loss: 2.0422e-04 - mse: 4.0843e-04\n",
            "Epoch 10: val_loss did not improve from 0.00111\n",
            "50/50 [==============================] - 1s 15ms/step - loss: 2.0422e-04 - mse: 4.0843e-04 - val_loss: 0.0014 - val_mse: 0.0028\n",
            "Epoch 11/50\n",
            "45/50 [==========================>...] - ETA: 0s - loss: 2.0370e-04 - mse: 4.0741e-04\n",
            "Epoch 11: val_loss did not improve from 0.00111\n",
            "50/50 [==============================] - 1s 13ms/step - loss: 2.0230e-04 - mse: 4.0461e-04 - val_loss: 0.0017 - val_mse: 0.0033\n",
            "Epoch 12/50\n",
            "48/50 [===========================>..] - ETA: 0s - loss: 1.9227e-04 - mse: 3.8454e-04\n",
            "Epoch 12: val_loss did not improve from 0.00111\n",
            "50/50 [==============================] - 1s 14ms/step - loss: 1.9298e-04 - mse: 3.8596e-04 - val_loss: 0.0018 - val_mse: 0.0035\n",
            "Epoch 13/50\n",
            "47/50 [===========================>..] - ETA: 0s - loss: 1.9092e-04 - mse: 3.8184e-04\n",
            "Epoch 13: val_loss did not improve from 0.00111\n",
            "50/50 [==============================] - 1s 13ms/step - loss: 1.9060e-04 - mse: 3.8120e-04 - val_loss: 0.0014 - val_mse: 0.0028\n",
            "Epoch 14/50\n",
            "50/50 [==============================] - ETA: 0s - loss: 1.8959e-04 - mse: 3.7918e-04\n",
            "Epoch 14: val_loss did not improve from 0.00111\n",
            "50/50 [==============================] - 1s 14ms/step - loss: 1.8959e-04 - mse: 3.7918e-04 - val_loss: 0.0017 - val_mse: 0.0033\n"
          ]
        }
      ]
    },
    {
      "cell_type": "code",
      "source": [
        "# 저장한 modelcheckpoint를 로드\n",
        "model.load_weights(filename)"
      ],
      "metadata": {
        "colab": {
          "base_uri": "https://localhost:8080/"
        },
        "id": "6-roWmVT6cjC",
        "outputId": "7f46ddf0-fdfc-42be-e56f-1aec15a5b622"
      },
      "execution_count": 37,
      "outputs": [
        {
          "output_type": "execute_result",
          "data": {
            "text/plain": [
              "<tensorflow.python.training.tracking.util.CheckpointLoadStatus at 0x7fae36edaa90>"
            ]
          },
          "metadata": {},
          "execution_count": 37
        }
      ]
    },
    {
      "cell_type": "code",
      "source": [
        "# test_data를 사용하여 예측을 진행\n",
        "pred = model.predict(test_data)"
      ],
      "metadata": {
        "id": "_HSfvX526jLK"
      },
      "execution_count": 38,
      "outputs": []
    },
    {
      "cell_type": "code",
      "source": [
        "pred.shape"
      ],
      "metadata": {
        "colab": {
          "base_uri": "https://localhost:8080/"
        },
        "id": "3yVPkA3j6oGK",
        "outputId": "c58f6bf7-d6b4-4b65-d977-9f8f527b1087"
      },
      "execution_count": 39,
      "outputs": [
        {
          "output_type": "execute_result",
          "data": {
            "text/plain": [
              "(380, 1)"
            ]
          },
          "metadata": {},
          "execution_count": 39
        }
      ]
    },
    {
      "cell_type": "code",
      "source": [
        ""
      ],
      "metadata": {
        "id": "yV08n3ie6pfu"
      },
      "execution_count": null,
      "outputs": []
    },
    {
      "cell_type": "markdown",
      "source": [
        "# 예측 데이터 시각화"
      ],
      "metadata": {
        "id": "tVPYVtcd6q5Y"
      }
    },
    {
      "cell_type": "code",
      "source": [
        "plt.figure(figsize=(12, 9))\n",
        "plt.plot(np.asarray(y_test)[15:], label='actual')\n",
        "plt.plot(pred, label='prediction')\n",
        "plt.legend()\n",
        "plt.show()"
      ],
      "metadata": {
        "colab": {
          "base_uri": "https://localhost:8080/",
          "height": 472
        },
        "id": "Yu5xpUKD6uCc",
        "outputId": "487991e8-8371-4465-b251-5254e0497202"
      },
      "execution_count": 43,
      "outputs": [
        {
          "output_type": "display_data",
          "data": {
            "text/plain": [
              "<Figure size 864x648 with 1 Axes>"
            ],
            "image/png": "[encoded data removed]"
          },
          "metadata": {
            "needs_background": "light"
          }
        }
      ]
    },
    {
      "cell_type": "code",
      "source": [
        "# 다른 데이터일 때 예측 필요"
      ],
      "metadata": {
        "id": "iKB70Npl6zmF"
      },
      "execution_count": null,
      "outputs": []
    }
  ]
}